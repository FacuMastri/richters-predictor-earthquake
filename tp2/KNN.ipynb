{
 "cells": [
  {
   "cell_type": "code",
   "execution_count": 1,
   "id": "7b281658-3d8f-4b84-809c-cd6e20905d36",
   "metadata": {
    "tags": []
   },
   "outputs": [],
   "source": [
    "import pandas as pd\n",
    "import numpy as np\n",
    "from time import ctime\n",
    "import warnings\n",
    "warnings.filterwarnings('ignore')"
   ]
  },
  {
   "cell_type": "code",
   "execution_count": 2,
   "id": "067ef14d-d9f2-4ea8-944b-53442f676115",
   "metadata": {},
   "outputs": [
    {
     "name": "stdout",
     "output_type": "stream",
     "text": [
      "<class 'pandas.core.frame.DataFrame'>\n",
      "RangeIndex: 260601 entries, 0 to 260600\n",
      "Data columns (total 86 columns):\n",
      " #   Column                                  Non-Null Count   Dtype  \n",
      "---  ------                                  --------------   -----  \n",
      " 0   building_id                             260601 non-null  int64  \n",
      " 1   damage_grade                            260601 non-null  int64  \n",
      " 2   count_floors_pre_eq                     260601 non-null  int64  \n",
      " 3   age                                     260601 non-null  int64  \n",
      " 4   area_percentage                         260601 non-null  int64  \n",
      " 5   height_percentage                       260601 non-null  int64  \n",
      " 6   land_surface_condition                  260601 non-null  float64\n",
      " 7   foundation_type                         260601 non-null  float64\n",
      " 8   roof_type                               260601 non-null  float64\n",
      " 9   ground_floor_type                       260601 non-null  float64\n",
      " 10  other_floor_type                        260601 non-null  float64\n",
      " 11  position                                260601 non-null  float64\n",
      " 12  plan_configuration                      260601 non-null  float64\n",
      " 13  has_superstructure_adobe_mud            260601 non-null  bool   \n",
      " 14  has_superstructure_mud_mortar_stone     260601 non-null  bool   \n",
      " 15  has_superstructure_stone_flag           260601 non-null  bool   \n",
      " 16  has_superstructure_cement_mortar_stone  260601 non-null  bool   \n",
      " 17  has_superstructure_mud_mortar_brick     260601 non-null  bool   \n",
      " 18  has_superstructure_cement_mortar_brick  260601 non-null  bool   \n",
      " 19  has_superstructure_timber               260601 non-null  bool   \n",
      " 20  has_superstructure_bamboo               260601 non-null  bool   \n",
      " 21  has_superstructure_rc_non_engineered    260601 non-null  bool   \n",
      " 22  has_superstructure_rc_engineered        260601 non-null  bool   \n",
      " 23  has_superstructure_other                260601 non-null  bool   \n",
      " 24  legal_ownership_status                  260601 non-null  float64\n",
      " 25  count_families                          260601 non-null  int64  \n",
      " 26  has_secondary_use_agriculture           260601 non-null  bool   \n",
      " 27  has_secondary_use_hotel                 260601 non-null  bool   \n",
      " 28  has_secondary_use_rental                260601 non-null  bool   \n",
      " 29  has_secondary_use_institution           260601 non-null  bool   \n",
      " 30  has_secondary_use_school                260601 non-null  bool   \n",
      " 31  has_secondary_use_industry              260601 non-null  bool   \n",
      " 32  has_secondary_use_health_post           260601 non-null  bool   \n",
      " 33  has_secondary_use_gov_office            260601 non-null  bool   \n",
      " 34  has_secondary_use_use_police            260601 non-null  bool   \n",
      " 35  has_secondary_use_other                 260601 non-null  bool   \n",
      " 36  proba_danio_1_dado_geolevel1            260601 non-null  float64\n",
      " 37  proba_danio_2_dado_geolevel1            260601 non-null  float64\n",
      " 38  proba_danio_3_dado_geolevel1            260601 non-null  float64\n",
      " 39  proba_danio_1_dado_geolevel2            260601 non-null  float64\n",
      " 40  proba_danio_2_dado_geolevel2            260601 non-null  float64\n",
      " 41  proba_danio_3_dado_geolevel2            260601 non-null  float64\n",
      " 42  proba_danio_1_dado_geolevel3            260601 non-null  float64\n",
      " 43  proba_danio_2_dado_geolevel3            260601 non-null  float64\n",
      " 44  proba_danio_3_dado_geolevel3            260601 non-null  float64\n",
      " 45  geo_level_embedded_0                    260601 non-null  float64\n",
      " 46  geo_level_embedded_1                    260601 non-null  float64\n",
      " 47  geo_level_embedded_2                    260601 non-null  float64\n",
      " 48  geo_level_embedded_3                    260601 non-null  float64\n",
      " 49  geo_level_embedded_4                    260601 non-null  float64\n",
      " 50  geo_level_embedded_5                    260601 non-null  float64\n",
      " 51  geo_level_embedded_6                    260601 non-null  float64\n",
      " 52  geo_level_embedded_7                    260601 non-null  float64\n",
      " 53  geo_level_embedded_8                    260601 non-null  float64\n",
      " 54  geo_level_embedded_9                    260601 non-null  float64\n",
      " 55  geo_level_embedded_10                   260601 non-null  float64\n",
      " 56  geo_level_embedded_11                   260601 non-null  float64\n",
      " 57  geo_level_embedded_12                   260601 non-null  float64\n",
      " 58  geo_level_embedded_13                   260601 non-null  float64\n",
      " 59  geo_level_embedded_14                   260601 non-null  float64\n",
      " 60  geo_level_embedded_15                   260601 non-null  float64\n",
      " 61  cant_geolevel1                          260601 non-null  int64  \n",
      " 62  cant_geolevel2                          260601 non-null  int64  \n",
      " 63  cant_geolevel3                          260601 non-null  int64  \n",
      " 64  relacion_geolevel1_geolevel2            260601 non-null  float64\n",
      " 65  relacion_geolevel1_geolevel3            260601 non-null  float64\n",
      " 66  relacion_geolevel2_geolevel1            260601 non-null  float64\n",
      " 67  relacion_geolevel2_geolevel3            260601 non-null  float64\n",
      " 68  relacion_geolevel3_geolevel1            260601 non-null  float64\n",
      " 69  relacion_geolevel3_geolevel2            260601 non-null  float64\n",
      " 70  anio_edificacion                        260601 non-null  int64  \n",
      " 71  construida_antes_de_codigo              260601 non-null  bool   \n",
      " 72  cant_pisos_por_antiguedad               260601 non-null  float64\n",
      " 73  cant_pisos_por_area                     260601 non-null  float64\n",
      " 74  cant_pisos_por_altura                   260601 non-null  float64\n",
      " 75  area_por_antiguedad                     260601 non-null  float64\n",
      " 76  altura_por_antiguedad                   260601 non-null  float64\n",
      " 77  area_por_altura                         260601 non-null  float64\n",
      " 78  producto_area_altura                    260601 non-null  int64  \n",
      " 79  area_al_cuadrado                        260601 non-null  int64  \n",
      " 80  altura_al_cuadrado                      260601 non-null  int64  \n",
      " 81  promedio_area_altura                    260601 non-null  float64\n",
      " 82  cant_familias_por_pisos                 260601 non-null  float64\n",
      " 83  cant_familias_por_area                  260601 non-null  float64\n",
      " 84  cant_familias_por_altura                260601 non-null  float64\n",
      "                        260601 non-null  int64  \n",
      "dtypes: bool(22), float64(49), int64(15)\n",
      "memory usage: 132.7 MB\n",
      "None\n"
     ]
    },
    {
     "data": {
      "text/html": [
       "<div>\n",
       "<style scoped>\n",
       "    .dataframe tbody tr th:only-of-type {\n",
       "        vertical-align: middle;\n",
       "    }\n",
       "\n",
       "    .dataframe tbody tr th {\n",
       "        vertical-align: top;\n",
       "    }\n",
       "\n",
       "    .dataframe thead th {\n",
       "        text-align: right;\n",
       "    }\n",
       "</style>\n",
       "<table border=\"1\" class=\"dataframe\">\n",
       "  <thead>\n",
       "    <tr style=\"text-align: right;\">\n",
       "      <th></th>\n",
       "      <th>building_id</th>\n",
       "      <th>damage_grade</th>\n",
       "      <th>count_floors_pre_eq</th>\n",
       "      <th>age</th>\n",
       "      <th>area_percentage</th>\n",
       "      <th>height_percentage</th>\n",
       "      <th>land_surface_condition</th>\n",
       "      <th>foundation_type</th>\n",
       "      <th>roof_type</th>\n",
       "      <th>ground_floor_type</th>\n",
       "      <th>...</th>\n",
       "      <th>altura_por_antiguedad</th>\n",
       "      <th>area_por_altura</th>\n",
       "      <th>producto_area_altura</th>\n",
       "      <th>area_al_cuadrado</th>\n",
       "      <th>altura_al_cuadrado</th>\n",
       "      <th>promedio_area_altura</th>\n",
       "      <th>cant_familias_por_pisos</th>\n",
       "      <th>cant_familias_por_area</th>\n",
       "      <th>cant_familias_por_altura</th>\n",
       "      <th>cant_materiales\\r</th>\n",
       "    </tr>\n",
       "  </thead>\n",
       "  <tbody>\n",
       "    <tr>\n",
       "      <th>0</th>\n",
       "      <td>802906</td>\n",
       "      <td>3</td>\n",
       "      <td>2</td>\n",
       "      <td>30</td>\n",
       "      <td>6</td>\n",
       "      <td>5</td>\n",
       "      <td>2.234176</td>\n",
       "      <td>2.329448</td>\n",
       "      <td>2.269586</td>\n",
       "      <td>2.309002</td>\n",
       "      <td>...</td>\n",
       "      <td>0.16129</td>\n",
       "      <td>1.2</td>\n",
       "      <td>30</td>\n",
       "      <td>36</td>\n",
       "      <td>25</td>\n",
       "      <td>5.5</td>\n",
       "      <td>0.5</td>\n",
       "      <td>0.166667</td>\n",
       "      <td>0.2</td>\n",
       "      <td>2</td>\n",
       "    </tr>\n",
       "  </tbody>\n",
       "</table>\n",
       "<p>1 rows × 86 columns</p>\n",
       "</div>"
      ],
      "text/plain": [
       "   building_id  damage_grade  count_floors_pre_eq  age  area_percentage  \\\n",
       "0       802906             3                    2   30                6   \n",
       "\n",
       "   height_percentage  land_surface_condition  foundation_type  roof_type  \\\n",
       "0                  5                2.234176         2.329448   2.269586   \n",
       "\n",
       "   ground_floor_type  ...  altura_por_antiguedad  area_por_altura  \\\n",
       "0           2.309002  ...                0.16129              1.2   \n",
       "\n",
       "   producto_area_altura  area_al_cuadrado  altura_al_cuadrado  \\\n",
       "0                    30                36                  25   \n",
       "\n",
       "   promedio_area_altura  cant_familias_por_pisos  cant_familias_por_area  \\\n",
       "0                   5.5                      0.5                0.166667   \n",
       "\n",
       "   cant_familias_por_altura  cant_materiales\\r  \n",
       "0                       0.2                  2  \n",
       "\n",
       "[1 rows x 86 columns]"
      ]
     },
     "execution_count": 2,
     "metadata": {},
     "output_type": "execute_result"
    }
   ],
   "source": [
    "# Datos de entrenamiento limpios y con features agregados\n",
    "train = pd.read_csv('../data/to_train_01.csv', low_memory=False, lineterminator='\\n')\n",
    "\n",
    "print(train.info())\n",
    "train.head(1)"
   ]
  },
  {
   "cell_type": "code",
   "execution_count": 3,
   "id": "fe70604b-198e-46e8-a2d8-fe18d2688ea1",
   "metadata": {
    "tags": []
   },
   "outputs": [
    {
     "name": "stdout",
     "output_type": "stream",
     "text": [
      "<class 'pandas.core.frame.DataFrame'>\n",
      "RangeIndex: 86868 entries, 0 to 86867\n",
      "Data columns (total 85 columns):\n",
      " #   Column                                  Non-Null Count  Dtype  \n",
      "---  ------                                  --------------  -----  \n",
      " 0   building_id                             86868 non-null  int64  \n",
      " 1   count_floors_pre_eq                     86868 non-null  int64  \n",
      " 2   age                                     86868 non-null  int64  \n",
      " 3   area_percentage                         86868 non-null  int64  \n",
      " 4   height_percentage                       86868 non-null  int64  \n",
      " 5   land_surface_condition                  86868 non-null  float64\n",
      " 6   foundation_type                         86868 non-null  float64\n",
      " 7   roof_type                               86868 non-null  float64\n",
      " 8   ground_floor_type                       86868 non-null  float64\n",
      " 9   other_floor_type                        86868 non-null  float64\n",
      " 10  position                                86868 non-null  float64\n",
      " 11  plan_configuration                      86868 non-null  float64\n",
      " 12  has_superstructure_adobe_mud            86868 non-null  int64  \n",
      " 13  has_superstructure_mud_mortar_stone     86868 non-null  int64  \n",
      " 14  has_superstructure_stone_flag           86868 non-null  int64  \n",
      " 15  has_superstructure_cement_mortar_stone  86868 non-null  int64  \n",
      " 16  has_superstructure_mud_mortar_brick     86868 non-null  int64  \n",
      " 17  has_superstructure_cement_mortar_brick  86868 non-null  int64  \n",
      " 18  has_superstructure_timber               86868 non-null  int64  \n",
      " 19  has_superstructure_bamboo               86868 non-null  int64  \n",
      " 20  has_superstructure_rc_non_engineered    86868 non-null  int64  \n",
      " 21  has_superstructure_rc_engineered        86868 non-null  int64  \n",
      " 22  has_superstructure_other                86868 non-null  int64  \n",
      " 23  legal_ownership_status                  86868 non-null  float64\n",
      " 24  count_families                          86868 non-null  int64  \n",
      " 25  has_secondary_use_agriculture           86868 non-null  int64  \n",
      " 26  has_secondary_use_hotel                 86868 non-null  int64  \n",
      " 27  has_secondary_use_rental                86868 non-null  int64  \n",
      " 28  has_secondary_use_institution           86868 non-null  int64  \n",
      " 29  has_secondary_use_school                86868 non-null  int64  \n",
      " 30  has_secondary_use_industry              86868 non-null  int64  \n",
      " 31  has_secondary_use_health_post           86868 non-null  int64  \n",
      " 32  has_secondary_use_gov_office            86868 non-null  int64  \n",
      " 33  has_secondary_use_use_police            86868 non-null  int64  \n",
      " 34  has_secondary_use_other                 86868 non-null  int64  \n",
      " 35  proba_danio_1_dado_geolevel1            86868 non-null  float64\n",
      " 36  proba_danio_2_dado_geolevel1            86868 non-null  float64\n",
      " 37  proba_danio_3_dado_geolevel1            86868 non-null  float64\n",
      " 38  proba_danio_1_dado_geolevel2            86868 non-null  float64\n",
      " 39  proba_danio_2_dado_geolevel2            86868 non-null  float64\n",
      " 40  proba_danio_3_dado_geolevel2            86868 non-null  float64\n",
      " 41  proba_danio_1_dado_geolevel3            86868 non-null  float64\n",
      " 42  proba_danio_2_dado_geolevel3            86868 non-null  float64\n",
      " 43  proba_danio_3_dado_geolevel3            86868 non-null  float64\n",
      " 44  geo_level_embedded_0                    86868 non-null  float64\n",
      " 45  geo_level_embedded_1                    86868 non-null  float64\n",
      " 46  geo_level_embedded_2                    86868 non-null  float64\n",
      " 47  geo_level_embedded_3                    86868 non-null  float64\n",
      " 48  geo_level_embedded_4                    86868 non-null  float64\n",
      " 49  geo_level_embedded_5                    86868 non-null  float64\n",
      " 50  geo_level_embedded_6                    86868 non-null  float64\n",
      " 51  geo_level_embedded_7                    86868 non-null  float64\n",
      " 52  geo_level_embedded_8                    86868 non-null  float64\n",
      " 53  geo_level_embedded_9                    86868 non-null  float64\n",
      " 54  geo_level_embedded_10                   86868 non-null  float64\n",
      " 55  geo_level_embedded_11                   86868 non-null  float64\n",
      " 56  geo_level_embedded_12                   86868 non-null  float64\n",
      " 57  geo_level_embedded_13                   86868 non-null  float64\n",
      " 58  geo_level_embedded_14                   86868 non-null  float64\n",
      " 59  geo_level_embedded_15                   86868 non-null  float64\n",
      " 60  cant_geolevel1                          86868 non-null  int64  \n",
      " 61  cant_geolevel2                          86868 non-null  int64  \n",
      " 62  cant_geolevel3                          86868 non-null  int64  \n",
      " 63  relacion_geolevel1_geolevel2            86868 non-null  float64\n",
      " 64  relacion_geolevel1_geolevel3            86868 non-null  float64\n",
      " 65  relacion_geolevel2_geolevel1            86868 non-null  float64\n",
      " 66  relacion_geolevel2_geolevel3            86868 non-null  float64\n",
      " 67  relacion_geolevel3_geolevel1            86868 non-null  float64\n",
      " 68  relacion_geolevel3_geolevel2            86868 non-null  float64\n",
      " 69  anio_edificacion                        86868 non-null  int64  \n",
      " 70  construida_antes_de_codigo              86868 non-null  bool   \n",
      " 71  cant_pisos_por_antiguedad               86868 non-null  float64\n",
      " 72  cant_pisos_por_area                     86868 non-null  float64\n",
      " 73  cant_pisos_por_altura                   86868 non-null  float64\n",
      " 74  area_por_antiguedad                     86868 non-null  float64\n",
      " 75  altura_por_antiguedad                   86868 non-null  float64\n",
      " 76  area_por_altura                         86868 non-null  float64\n",
      " 77  producto_area_altura                    86868 non-null  int64  \n",
      " 78  area_al_cuadrado                        86868 non-null  int64  \n",
      " 79  altura_al_cuadrado                      86868 non-null  int64  \n",
      " 80  promedio_area_altura                    86868 non-null  float64\n",
      " 81  cant_familias_por_pisos                 86868 non-null  float64\n",
      " 82  cant_familias_por_area                  86868 non-null  float64\n",
      " 83  cant_familias_por_altura                86868 non-null  float64\n",
      "                        86868 non-null  int64  \n",
      "dtypes: bool(1), float64(49), int64(35)\n",
      "memory usage: 55.8 MB\n",
      "None\n"
     ]
    },
    {
     "data": {
      "text/html": [
       "<div>\n",
       "<style scoped>\n",
       "    .dataframe tbody tr th:only-of-type {\n",
       "        vertical-align: middle;\n",
       "    }\n",
       "\n",
       "    .dataframe tbody tr th {\n",
       "        vertical-align: top;\n",
       "    }\n",
       "\n",
       "    .dataframe thead th {\n",
       "        text-align: right;\n",
       "    }\n",
       "</style>\n",
       "<table border=\"1\" class=\"dataframe\">\n",
       "  <thead>\n",
       "    <tr style=\"text-align: right;\">\n",
       "      <th></th>\n",
       "      <th>building_id</th>\n",
       "      <th>count_floors_pre_eq</th>\n",
       "      <th>age</th>\n",
       "      <th>area_percentage</th>\n",
       "      <th>height_percentage</th>\n",
       "      <th>land_surface_condition</th>\n",
       "      <th>foundation_type</th>\n",
       "      <th>roof_type</th>\n",
       "      <th>ground_floor_type</th>\n",
       "      <th>other_floor_type</th>\n",
       "      <th>...</th>\n",
       "      <th>altura_por_antiguedad</th>\n",
       "      <th>area_por_altura</th>\n",
       "      <th>producto_area_altura</th>\n",
       "      <th>area_al_cuadrado</th>\n",
       "      <th>altura_al_cuadrado</th>\n",
       "      <th>promedio_area_altura</th>\n",
       "      <th>cant_familias_por_pisos</th>\n",
       "      <th>cant_familias_por_area</th>\n",
       "      <th>cant_familias_por_altura</th>\n",
       "      <th>cant_materiales\\r</th>\n",
       "    </tr>\n",
       "  </thead>\n",
       "  <tbody>\n",
       "    <tr>\n",
       "      <th>0</th>\n",
       "      <td>300051</td>\n",
       "      <td>3</td>\n",
       "      <td>20</td>\n",
       "      <td>7</td>\n",
       "      <td>6</td>\n",
       "      <td>2.234176</td>\n",
       "      <td>2.329448</td>\n",
       "      <td>2.269586</td>\n",
       "      <td>2.309002</td>\n",
       "      <td>2.315611</td>\n",
       "      <td>...</td>\n",
       "      <td>0.285714</td>\n",
       "      <td>1.166667</td>\n",
       "      <td>42</td>\n",
       "      <td>49</td>\n",
       "      <td>36</td>\n",
       "      <td>6.5</td>\n",
       "      <td>0.333333</td>\n",
       "      <td>0.142857</td>\n",
       "      <td>0.166667</td>\n",
       "      <td>1</td>\n",
       "    </tr>\n",
       "  </tbody>\n",
       "</table>\n",
       "<p>1 rows × 85 columns</p>\n",
       "</div>"
      ],
      "text/plain": [
       "   building_id  count_floors_pre_eq  age  area_percentage  height_percentage  \\\n",
       "0       300051                    3   20                7                  6   \n",
       "\n",
       "   land_surface_condition  foundation_type  roof_type  ground_floor_type  \\\n",
       "0                2.234176         2.329448   2.269586           2.309002   \n",
       "\n",
       "   other_floor_type  ...  altura_por_antiguedad  area_por_altura  \\\n",
       "0          2.315611  ...               0.285714         1.166667   \n",
       "\n",
       "   producto_area_altura  area_al_cuadrado  altura_al_cuadrado  \\\n",
       "0                    42                49                  36   \n",
       "\n",
       "   promedio_area_altura  cant_familias_por_pisos  cant_familias_por_area  \\\n",
       "0                   6.5                 0.333333                0.142857   \n",
       "\n",
       "   cant_familias_por_altura  cant_materiales\\r  \n",
       "0                  0.166667                  1  \n",
       "\n",
       "[1 rows x 85 columns]"
      ]
     },
     "execution_count": 3,
     "metadata": {},
     "output_type": "execute_result"
    }
   ],
   "source": [
    "# Datos de prueba\n",
    "test = pd.read_csv('../data/to_test_01.csv', low_memory=False, lineterminator='\\n')\n",
    "print(test.info())\n",
    "test.head(1)"
   ]
  },
  {
   "cell_type": "markdown",
   "id": "8a6ac0dc-aaa2-47e5-8e87-ded639529ae4",
   "metadata": {
    "tags": []
   },
   "source": [
    "## Entrenamiento del modelo"
   ]
  },
  {
   "cell_type": "markdown",
   "id": "c1cb2d23-e7d8-479a-9edf-15e86fd5200d",
   "metadata": {},
   "source": [
    "### Seleccion de features"
   ]
  },
  {
   "cell_type": "code",
   "execution_count": 4,
   "id": "2a2a98d2-b13f-433e-946c-8380b178c34e",
   "metadata": {},
   "outputs": [],
   "source": [
    "def seleccion_de_features_to_remove(df_train):\n",
    "    '''\n",
    "    Funcion para seleccionar features.\n",
    "    features_to_remove es la base que contiene building_id y damage_grade\n",
    "    Las demas listas, las creamos y las agregamos a subset_features para luego appendearlas a features_to_remove\n",
    "    '''\n",
    "    features_to_remove = ['building_id', 'damage_grade']\n",
    "    subset_features = []\n",
    "    has_secondary = [col for col in df_train.columns if 'has_secondary' in col]\n",
    "    legal_ownership = [col for col in df_train.columns if 'legal_ownership' in col]\n",
    "    plan_configuration = [col for col in df_train.columns if 'plan_configuration' in col]\n",
    "    probas = [col for col in df_train.columns if 'proba_danio' in col]\n",
    "    relaciones_geo = [col for col in df_train.columns if 'relacion_' in col]\n",
    "    cantidad_geo = [col for col in df_train.columns if 'cant_geolevel' in col]\n",
    "    geo_level_embedded = [col for col in df_train.columns if 'geo_level_embedded_' in col]\n",
    "    #subset_features.append(has_secondary)\n",
    "    subset_features.append(cantidad_geo)\n",
    "    subset_features.append(legal_ownership)\n",
    "    subset_features.append(relaciones_geo)\n",
    "    #subset_features.append(geo_level_embedded)\n",
    "    subset_features.append(probas)\n",
    "    #subset_features.append(plan_configuration)\n",
    "    for subset in subset_features:\n",
    "        features_to_remove += subset\n",
    "    return features_to_remove"
   ]
  },
  {
   "cell_type": "code",
   "execution_count": 5,
   "id": "d445302e-5194-4141-9a82-0bf3e936f0f8",
   "metadata": {},
   "outputs": [],
   "source": [
    "#features_adicionales_a_remover = ['proba_danio_1_dado_geolevel3', 'proba_danio_2_dado_geolevel3', 'proba_danio_3_dado_geolevel3']\n",
    "#otras_features_a_sacar = ['has_superstructure_stone_flag', 'has_superstructure_other', 'has_superstructure_bamboo', 'has_superstructure_cement_mortar_stone',\\\n",
    "#      'has_superstructure_adobe_mud']"
   ]
  },
  {
   "cell_type": "code",
   "execution_count": 6,
   "id": "9baac878-0b6c-4160-b262-1c81c6bc5739",
   "metadata": {
    "tags": []
   },
   "outputs": [],
   "source": [
    "# Arreglo el nombre de la columna 'cant_materiales'\n",
    "train.rename(columns={'cant_materiales\\r': 'cant_materiales'}, inplace=True)\n",
    "test.rename(columns={'cant_materiales\\r': 'cant_materiales'}, inplace=True)"
   ]
  },
  {
   "cell_type": "code",
   "execution_count": 7,
   "id": "d13ae5a8-e16c-4b43-af31-16db7923b6b0",
   "metadata": {
    "tags": []
   },
   "outputs": [],
   "source": [
    "features_to_remove = seleccion_de_features_to_remove(train)\n",
    "Y = train['damage_grade']\n",
    "X = train.drop(features_to_remove, axis=1)"
   ]
  },
  {
   "cell_type": "code",
   "execution_count": 8,
   "id": "54c428cc-92f7-4603-8c79-e6841d1cb9ae",
   "metadata": {},
   "outputs": [],
   "source": [
    "from sklearn.neighbors import KNeighborsClassifier\n",
    "from sklearn.preprocessing import StandardScaler\n",
    "from sklearn.model_selection import train_test_split"
   ]
  },
  {
   "cell_type": "code",
   "execution_count": 9,
   "id": "f01d0ecb-530b-488c-9b71-6c58e9bad583",
   "metadata": {},
   "outputs": [],
   "source": [
    "# Como no es un arbol, necesitamos escalar los datos\n",
    "# StandardScaler   -> promedio=0, desviacion estandar=1                       (cada feature)\n",
    "# MinMaxScaler     -> escala valores de 0 a 1, (o rango pasado por parametro) (cada feature)\n",
    "# RobustScaler     -> escala siendo robusto a outliers                        (cada feature)\n",
    "# PowerTransformer -> modifica los datos para que tengan una gausiana         (cada feature)\n",
    "# Normalizer       -> modifica los datos para que tengan norma=1              (cada fila)\n",
    "\n",
    "scaler = StandardScaler()\n",
    "X = scaler.fit_transform(X)"
   ]
  },
  {
   "cell_type": "code",
   "execution_count": 10,
   "id": "b84b32f4-123e-455e-bf9c-f17fe38afdca",
   "metadata": {},
   "outputs": [],
   "source": [
    "X_train, X_test, y_train, y_test = train_test_split(X, Y, random_state=1881, test_size=0.2)"
   ]
  },
  {
   "cell_type": "markdown",
   "id": "cc5ff537-8bf4-49ae-8e9d-0ed6fd07cbc8",
   "metadata": {},
   "source": [
    "> https://scikit-learn.org/stable/modules/generated/sklearn.neighbors.KNeighborsClassifier.html"
   ]
  },
  {
   "cell_type": "code",
   "execution_count": 12,
   "id": "f08f632e-ba91-4c5e-986d-2506768e4bdc",
   "metadata": {},
   "outputs": [
    {
     "name": "stdout",
     "output_type": "stream",
     "text": [
      "Hora antes de empezar a tunear/entrenar: Sun Jul 25 22:41:11 2021\n",
      "Hora al finalizar de tunear/entrenar: Sun Jul 25 22:41:11 2021\n",
      "Training Score: 0.7429\n",
      "Test Score:  0.7154\n"
     ]
    }
   ],
   "source": [
    "from sklearn.metrics import f1_score\n",
    "\n",
    "# No tiene tiempo de entrenamiento pero tarda demasiado al calcular la distancia de cada punto contra todos los otros puntos\n",
    "# Coincide con lo visto en la teorica.\n",
    "# Tarda aprox 40 min en predecir ambos test y train\n",
    "\n",
    "# DD 0.7095\n",
    "#Training Score: 0.7429\n",
    "#Test Score:  0.7154\n",
    "\n",
    "best_params = { \n",
    "    'n_jobs':-1,\n",
    "    'n_neighbors': 15\n",
    "}\n",
    "\n",
    "\n",
    "print('Hora antes de empezar a tunear/entrenar: {}'.format(ctime()))\n",
    "model = KNeighborsClassifier(**best_params)\n",
    "model.fit(X_train, y_train)\n",
    "print('Hora al finalizar de tunear/entrenar: {}'.format(ctime()))\n",
    "\n",
    "# Vemos el score comprobando contra el set de test y de train\n",
    "y_pred_test = model.predict(X_test)\n",
    "model_f1_micro_test = f1_score(y_test, y_pred_test, average='micro')\n",
    "y_pred_train = model.predict(X_train)\n",
    "model_f1_micro_train = f1_score(y_train, y_pred_train, average='micro')\n",
    "print('Training Score: %.4f' % model_f1_micro_train)\n",
    "print('Test Score:  %.4f' % model_f1_micro_test)"
   ]
  },
  {
   "cell_type": "markdown",
   "id": "3ac044c6-413c-4c12-9526-add069b07583",
   "metadata": {},
   "source": [
    "La matriz de confusion nos muestra nuestros $tp$, $fp$, $tn$ y $fn$ en una matriz. La diagonal principal son los valores correctamente clasificados. Los otros valores indican la cantidad de puntos mal clasificados.\n",
    "> https://scikit-learn.org/stable/modules/generated/sklearn.metrics.confusion_matrix.html"
   ]
  },
  {
   "cell_type": "code",
   "execution_count": 13,
   "id": "01fccadf-cff9-4c38-8bd6-64286a6d6fa8",
   "metadata": {},
   "outputs": [],
   "source": [
    "from sklearn.metrics import confusion_matrix\n",
    "\n",
    "import matplotlib.pyplot as plt\n",
    "import seaborn as sns\n",
    "%matplotlib inline\n",
    "plt.style.use('default')\n",
    "sns.set(style='whitegrid') # seteando tipo de grid en seaborn\n",
    "\n",
    "def plot_confusion_matrix(y_true, y_pred):\n",
    "    names = sorted(set(y_true))\n",
    "    cm = confusion_matrix(y_true, y_pred, names)\n",
    "    df_cm = pd.DataFrame(cm, names, names)\n",
    "\n",
    "    plt.figure(dpi=100)\n",
    "    plt.title('Matriz de confusion')\n",
    "    sns.heatmap(df_cm, annot=True, annot_kws={'size': 16}, fmt='g', square=True)\n",
    "    plt.ylabel('Label correcto')\n",
    "    plt.xlabel('Label predecido')\n",
    "    plt.show()"
   ]
  },
  {
   "cell_type": "code",
   "execution_count": 14,
   "id": "b49bb786-41cd-4864-8b8d-1f5d9f2bdc9f",
   "metadata": {},
   "outputs": [
    {
     "data": {
      "image/png": "[encoded data removed]",
      "text/plain": [
       "<Figure size 640x480 with 2 Axes>"
      ]
     },
     "metadata": {},
     "output_type": "display_data"
    }
   ],
   "source": [
    "plot_confusion_matrix(y_test, y_pred_test)"
   ]
  },
  {
   "cell_type": "markdown",
   "id": "c8d741ee-5c92-4cd1-9201-ebbe86a911ab",
   "metadata": {
    "tags": []
   },
   "source": [
    "### Prediccion del modelo"
   ]
  },
  {
   "cell_type": "code",
   "execution_count": 15,
   "id": "2934de49-1648-4c05-9093-234c8e7110af",
   "metadata": {},
   "outputs": [],
   "source": [
    "# Saco damage_grade de las features a remover ya que dicha feature NO esta en el set de test\n",
    "features_to_remove.remove('damage_grade')\n",
    "to_test = test.drop(features_to_remove, axis=1)"
   ]
  },
  {
   "cell_type": "code",
   "execution_count": 16,
   "id": "991ebc6e-4506-4c8d-bd04-147c53506bae",
   "metadata": {},
   "outputs": [],
   "source": [
    "to_test = scaler.fit_transform(to_test)"
   ]
  },
  {
   "cell_type": "code",
   "execution_count": 17,
   "id": "a74a6129-6809-4b20-9699-8042d80949c1",
   "metadata": {},
   "outputs": [
    {
     "data": {
      "text/plain": [
       "array([2, 2, 2, ..., 2, 2, 1], dtype=int64)"
      ]
     },
     "execution_count": 17,
     "metadata": {},
     "output_type": "execute_result"
    }
   ],
   "source": [
    "# Tarda 14 min aprox.\n",
    "y_pred = model.predict(to_test)\n",
    "y_pred"
   ]
  },
  {
   "cell_type": "markdown",
   "id": "ad27e559-8ddd-41d5-ad20-5af0829255e1",
   "metadata": {},
   "source": [
    "### Formateo de la prediccion para un submit"
   ]
  },
  {
   "cell_type": "code",
   "execution_count": 18,
   "id": "5bcf9d09-3ac2-40ac-95df-c804c4b5c60b",
   "metadata": {},
   "outputs": [
    {
     "data": {
      "text/plain": [
       "0         300051\n",
       "1          99355\n",
       "2         890251\n",
       "3         745817\n",
       "4         421793\n",
       "          ...   \n",
       "86863     310028\n",
       "86864     663567\n",
       "86865    1049160\n",
       "86866     442785\n",
       "86867     501372\n",
       "Name: building_id, Length: 86868, dtype: int64"
      ]
     },
     "execution_count": 18,
     "metadata": {},
     "output_type": "execute_result"
    }
   ],
   "source": [
    "test_id = test['building_id']\n",
    "test_id"
   ]
  },
  {
   "cell_type": "code",
   "execution_count": 19,
   "id": "8ae23d4d-30e6-4635-870e-d28a49b3393f",
   "metadata": {
    "tags": []
   },
   "outputs": [
    {
     "data": {
      "text/html": [
       "<div>\n",
       "<style scoped>\n",
       "    .dataframe tbody tr th:only-of-type {\n",
       "        vertical-align: middle;\n",
       "    }\n",
       "\n",
       "    .dataframe tbody tr th {\n",
       "        vertical-align: top;\n",
       "    }\n",
       "\n",
       "    .dataframe thead th {\n",
       "        text-align: right;\n",
       "    }\n",
       "</style>\n",
       "<table border=\"1\" class=\"dataframe\">\n",
       "  <thead>\n",
       "    <tr style=\"text-align: right;\">\n",
       "      <th></th>\n",
       "      <th>damage_grade</th>\n",
       "    </tr>\n",
       "    <tr>\n",
       "      <th>building_id</th>\n",
       "      <th></th>\n",
       "    </tr>\n",
       "  </thead>\n",
       "  <tbody>\n",
       "    <tr>\n",
       "      <th>300051</th>\n",
       "      <td>2</td>\n",
       "    </tr>\n",
       "    <tr>\n",
       "      <th>99355</th>\n",
       "      <td>2</td>\n",
       "    </tr>\n",
       "    <tr>\n",
       "      <th>890251</th>\n",
       "      <td>2</td>\n",
       "    </tr>\n",
       "    <tr>\n",
       "      <th>745817</th>\n",
       "      <td>2</td>\n",
       "    </tr>\n",
       "    <tr>\n",
       "      <th>421793</th>\n",
       "      <td>3</td>\n",
       "    </tr>\n",
       "  </tbody>\n",
       "</table>\n",
       "</div>"
      ],
      "text/plain": [
       "             damage_grade\n",
       "building_id              \n",
       "300051                  2\n",
       "99355                   2\n",
       "890251                  2\n",
       "745817                  2\n",
       "421793                  3"
      ]
     },
     "execution_count": 19,
     "metadata": {},
     "output_type": "execute_result"
    }
   ],
   "source": [
    "submit = pd.concat([test_id, pd.Series(y_pred, name='damage_grade')], axis=1)\n",
    "submit.set_index('building_id', inplace=True)\n",
    "submit.head()"
   ]
  },
  {
   "cell_type": "code",
   "execution_count": 20,
   "id": "be215c8e-fd68-45ea-8d84-d9ca42657d4e",
   "metadata": {},
   "outputs": [],
   "source": [
    "submit.to_csv('../submits-csv/submit-KNN-{}.csv'.format(model_f1_micro_test))"
   ]
  },
  {
   "cell_type": "code",
   "execution_count": null,
   "id": "5450070b-9d9e-4a84-ab49-2cc54a55b6ff",
   "metadata": {},
   "outputs": [],
   "source": []
  }
 ],
 "metadata": {
  "kernelspec": {
   "display_name": "Python 3 (ipykernel)",
   "language": "python",
   "name": "python3"
  },
  "language_info": {
   "codemirror_mode": {
    "name": "ipython",
    "version": 3
   },
   "file_extension": ".py",
   "mimetype": "text/x-python",
   "name": "python",
   "nbconvert_exporter": "python",
   "pygments_lexer": "ipython3",
   "version": "3.9.6"
  },
  "toc-autonumbering": false
 },
 "nbformat": 4,
 "nbformat_minor": 5
}
