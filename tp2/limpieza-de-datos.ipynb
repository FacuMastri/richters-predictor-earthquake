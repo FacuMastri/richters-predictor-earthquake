{
 "cells": [
  {
   "cell_type": "markdown",
   "id": "0512771a-0129-4dbd-afd2-08a3b3c674c5",
   "metadata": {},
   "source": [
    "# Limpieza de datos"
   ]
  },
  {
   "cell_type": "code",
   "execution_count": 1,
   "id": "c2b2269a-89df-4c53-94aa-418343f18bbf",
   "metadata": {},
   "outputs": [],
   "source": [
    "import pandas as pd\n",
    "import numpy as np\n",
    "import matplotlib.pyplot as plt\n",
    "import seaborn as sns\n",
    "\n",
    "%matplotlib inline\n",
    "\n",
    "plt.style.use('default')\n",
    "\n",
    "sns.set(style=\"whitegrid\")\n",
    "\n",
    "pd.options.display.float_format = '{:20,.2f}'.format # suprimimos la notacion cientifica en los outputs\n",
    "\n",
    "import warnings\n",
    "warnings.filterwarnings('ignore')"
   ]
  },
  {
   "cell_type": "markdown",
   "id": "0bad7ba5-2fe1-4da5-999a-1dd63d8c70f4",
   "metadata": {},
   "source": [
    "En este notebook se tratará de limpiar los datos en lo que respecta a outliers. Sabemos que tanto el set de train como el de test no tienen nulos, pero en las features numericas no sabemos si algunos valores pueden estar fuera del grueso de la distribucion."
   ]
  },
  {
   "cell_type": "code",
   "execution_count": 2,
   "id": "89b75c40-99db-4d84-8654-6d2a33f593ed",
   "metadata": {},
   "outputs": [],
   "source": [
    "df_train_labels = pd.read_csv('../data/train_labels.csv', low_memory=False)\n",
    "df_train_values = pd.read_csv('../data/train_values.csv', low_memory=False)\n",
    "df_test = pd.read_csv('../data/test_values.csv', index_col='building_id', low_memory=False)\n",
    "df_train = pd.merge(df_train_labels, df_train_values, how='inner', on='building_id')\n",
    "df_train.set_index('building_id', inplace=True)"
   ]
  },
  {
   "cell_type": "code",
   "execution_count": 3,
   "id": "f82b6617-f666-4758-b95a-1b171756793c",
   "metadata": {},
   "outputs": [
    {
     "data": {
      "text/html": [
       "<div>\n",
       "<style scoped>\n",
       "    .dataframe tbody tr th:only-of-type {\n",
       "        vertical-align: middle;\n",
       "    }\n",
       "\n",
       "    .dataframe tbody tr th {\n",
       "        vertical-align: top;\n",
       "    }\n",
       "\n",
       "    .dataframe thead th {\n",
       "        text-align: right;\n",
       "    }\n",
       "</style>\n",
       "<table border=\"1\" class=\"dataframe\">\n",
       "  <thead>\n",
       "    <tr style=\"text-align: right;\">\n",
       "      <th></th>\n",
       "      <th>geo_level_1_id</th>\n",
       "      <th>geo_level_2_id</th>\n",
       "      <th>geo_level_3_id</th>\n",
       "      <th>count_floors_pre_eq</th>\n",
       "      <th>age</th>\n",
       "      <th>area_percentage</th>\n",
       "      <th>height_percentage</th>\n",
       "      <th>land_surface_condition</th>\n",
       "      <th>foundation_type</th>\n",
       "      <th>roof_type</th>\n",
       "      <th>...</th>\n",
       "      <th>has_secondary_use_hotel</th>\n",
       "      <th>has_secondary_use_rental</th>\n",
       "      <th>has_secondary_use_institution</th>\n",
       "      <th>has_secondary_use_school</th>\n",
       "      <th>has_secondary_use_industry</th>\n",
       "      <th>has_secondary_use_health_post</th>\n",
       "      <th>has_secondary_use_gov_office</th>\n",
       "      <th>has_secondary_use_use_police</th>\n",
       "      <th>has_secondary_use_other</th>\n",
       "      <th>damage_grade</th>\n",
       "    </tr>\n",
       "    <tr>\n",
       "      <th>building_id</th>\n",
       "      <th></th>\n",
       "      <th></th>\n",
       "      <th></th>\n",
       "      <th></th>\n",
       "      <th></th>\n",
       "      <th></th>\n",
       "      <th></th>\n",
       "      <th></th>\n",
       "      <th></th>\n",
       "      <th></th>\n",
       "      <th></th>\n",
       "      <th></th>\n",
       "      <th></th>\n",
       "      <th></th>\n",
       "      <th></th>\n",
       "      <th></th>\n",
       "      <th></th>\n",
       "      <th></th>\n",
       "      <th></th>\n",
       "      <th></th>\n",
       "      <th></th>\n",
       "    </tr>\n",
       "  </thead>\n",
       "  <tbody>\n",
       "    <tr>\n",
       "      <th>300051</th>\n",
       "      <td>17</td>\n",
       "      <td>596</td>\n",
       "      <td>11307</td>\n",
       "      <td>3</td>\n",
       "      <td>20</td>\n",
       "      <td>7</td>\n",
       "      <td>6</td>\n",
       "      <td>t</td>\n",
       "      <td>r</td>\n",
       "      <td>n</td>\n",
       "      <td>...</td>\n",
       "      <td>0</td>\n",
       "      <td>0</td>\n",
       "      <td>0</td>\n",
       "      <td>0</td>\n",
       "      <td>0</td>\n",
       "      <td>0</td>\n",
       "      <td>0</td>\n",
       "      <td>0</td>\n",
       "      <td>0</td>\n",
       "      <td>-1</td>\n",
       "    </tr>\n",
       "  </tbody>\n",
       "</table>\n",
       "<p>1 rows × 39 columns</p>\n",
       "</div>"
      ],
      "text/plain": [
       "             geo_level_1_id  geo_level_2_id  geo_level_3_id  \\\n",
       "building_id                                                   \n",
       "300051                   17             596           11307   \n",
       "\n",
       "             count_floors_pre_eq  age  area_percentage  height_percentage  \\\n",
       "building_id                                                                 \n",
       "300051                         3   20                7                  6   \n",
       "\n",
       "            land_surface_condition foundation_type roof_type  ...  \\\n",
       "building_id                                                   ...   \n",
       "300051                           t               r         n  ...   \n",
       "\n",
       "            has_secondary_use_hotel has_secondary_use_rental  \\\n",
       "building_id                                                    \n",
       "300051                            0                        0   \n",
       "\n",
       "            has_secondary_use_institution has_secondary_use_school  \\\n",
       "building_id                                                          \n",
       "300051                                  0                        0   \n",
       "\n",
       "             has_secondary_use_industry  has_secondary_use_health_post  \\\n",
       "building_id                                                              \n",
       "300051                                0                              0   \n",
       "\n",
       "             has_secondary_use_gov_office  has_secondary_use_use_police  \\\n",
       "building_id                                                               \n",
       "300051                                  0                             0   \n",
       "\n",
       "             has_secondary_use_other  damage_grade  \n",
       "building_id                                         \n",
       "300051                             0            -1  \n",
       "\n",
       "[1 rows x 39 columns]"
      ]
     },
     "execution_count": 3,
     "metadata": {},
     "output_type": "execute_result"
    }
   ],
   "source": [
    "# Creo columna de damage_grade = -1 como dummy para poder juntar los 2 datasets\n",
    "df_test['damage_grade'] = -1\n",
    "df_test.head(1)"
   ]
  },
  {
   "cell_type": "code",
   "execution_count": 4,
   "id": "313f12a5-4a36-4631-8f11-734c7d0bc598",
   "metadata": {},
   "outputs": [
    {
     "data": {
      "text/html": [
       "<div>\n",
       "<style scoped>\n",
       "    .dataframe tbody tr th:only-of-type {\n",
       "        vertical-align: middle;\n",
       "    }\n",
       "\n",
       "    .dataframe tbody tr th {\n",
       "        vertical-align: top;\n",
       "    }\n",
       "\n",
       "    .dataframe thead th {\n",
       "        text-align: right;\n",
       "    }\n",
       "</style>\n",
       "<table border=\"1\" class=\"dataframe\">\n",
       "  <thead>\n",
       "    <tr style=\"text-align: right;\">\n",
       "      <th></th>\n",
       "      <th>damage_grade</th>\n",
       "      <th>geo_level_1_id</th>\n",
       "      <th>geo_level_2_id</th>\n",
       "      <th>geo_level_3_id</th>\n",
       "      <th>count_floors_pre_eq</th>\n",
       "      <th>age</th>\n",
       "      <th>area_percentage</th>\n",
       "      <th>height_percentage</th>\n",
       "      <th>land_surface_condition</th>\n",
       "      <th>foundation_type</th>\n",
       "      <th>...</th>\n",
       "      <th>has_secondary_use_agriculture</th>\n",
       "      <th>has_secondary_use_hotel</th>\n",
       "      <th>has_secondary_use_rental</th>\n",
       "      <th>has_secondary_use_institution</th>\n",
       "      <th>has_secondary_use_school</th>\n",
       "      <th>has_secondary_use_industry</th>\n",
       "      <th>has_secondary_use_health_post</th>\n",
       "      <th>has_secondary_use_gov_office</th>\n",
       "      <th>has_secondary_use_use_police</th>\n",
       "      <th>has_secondary_use_other</th>\n",
       "    </tr>\n",
       "    <tr>\n",
       "      <th>building_id</th>\n",
       "      <th></th>\n",
       "      <th></th>\n",
       "      <th></th>\n",
       "      <th></th>\n",
       "      <th></th>\n",
       "      <th></th>\n",
       "      <th></th>\n",
       "      <th></th>\n",
       "      <th></th>\n",
       "      <th></th>\n",
       "      <th></th>\n",
       "      <th></th>\n",
       "      <th></th>\n",
       "      <th></th>\n",
       "      <th></th>\n",
       "      <th></th>\n",
       "      <th></th>\n",
       "      <th></th>\n",
       "      <th></th>\n",
       "      <th></th>\n",
       "      <th></th>\n",
       "    </tr>\n",
       "  </thead>\n",
       "  <tbody>\n",
       "    <tr>\n",
       "      <th>802906</th>\n",
       "      <td>3</td>\n",
       "      <td>6</td>\n",
       "      <td>487</td>\n",
       "      <td>12198</td>\n",
       "      <td>2</td>\n",
       "      <td>30</td>\n",
       "      <td>6</td>\n",
       "      <td>5</td>\n",
       "      <td>t</td>\n",
       "      <td>r</td>\n",
       "      <td>...</td>\n",
       "      <td>0</td>\n",
       "      <td>0</td>\n",
       "      <td>0</td>\n",
       "      <td>0</td>\n",
       "      <td>0</td>\n",
       "      <td>0</td>\n",
       "      <td>0</td>\n",
       "      <td>0</td>\n",
       "      <td>0</td>\n",
       "      <td>0</td>\n",
       "    </tr>\n",
       "  </tbody>\n",
       "</table>\n",
       "<p>1 rows × 39 columns</p>\n",
       "</div>"
      ],
      "text/plain": [
       "             damage_grade  geo_level_1_id  geo_level_2_id  geo_level_3_id  \\\n",
       "building_id                                                                 \n",
       "802906                  3               6             487           12198   \n",
       "\n",
       "             count_floors_pre_eq  age  area_percentage  height_percentage  \\\n",
       "building_id                                                                 \n",
       "802906                         2   30                6                  5   \n",
       "\n",
       "            land_surface_condition foundation_type  ...  \\\n",
       "building_id                                         ...   \n",
       "802906                           t               r  ...   \n",
       "\n",
       "            has_secondary_use_agriculture has_secondary_use_hotel  \\\n",
       "building_id                                                         \n",
       "802906                                  0                       0   \n",
       "\n",
       "            has_secondary_use_rental has_secondary_use_institution  \\\n",
       "building_id                                                          \n",
       "802906                             0                             0   \n",
       "\n",
       "            has_secondary_use_school  has_secondary_use_industry  \\\n",
       "building_id                                                        \n",
       "802906                             0                           0   \n",
       "\n",
       "             has_secondary_use_health_post  has_secondary_use_gov_office  \\\n",
       "building_id                                                                \n",
       "802906                                   0                             0   \n",
       "\n",
       "             has_secondary_use_use_police  has_secondary_use_other  \n",
       "building_id                                                         \n",
       "802906                                  0                        0  \n",
       "\n",
       "[1 rows x 39 columns]"
      ]
     },
     "execution_count": 4,
     "metadata": {},
     "output_type": "execute_result"
    }
   ],
   "source": [
    "df_train.head(1)"
   ]
  },
  {
   "cell_type": "code",
   "execution_count": 5,
   "id": "1215c0ce-754e-4801-99cb-b22514e0f69f",
   "metadata": {},
   "outputs": [
    {
     "data": {
      "text/plain": [
       "(347469, 39)"
      ]
     },
     "execution_count": 5,
     "metadata": {},
     "output_type": "execute_result"
    }
   ],
   "source": [
    "df_train_test = df_train.append(df_test, ignore_index=False, sort=False)\n",
    "df_train_test.shape"
   ]
  },
  {
   "cell_type": "code",
   "execution_count": 6,
   "id": "5c7e2dc6-57b7-4f88-bb0b-dcac96ae639d",
   "metadata": {},
   "outputs": [
    {
     "data": {
      "text/html": [
       "<div>\n",
       "<style scoped>\n",
       "    .dataframe tbody tr th:only-of-type {\n",
       "        vertical-align: middle;\n",
       "    }\n",
       "\n",
       "    .dataframe tbody tr th {\n",
       "        vertical-align: top;\n",
       "    }\n",
       "\n",
       "    .dataframe thead th {\n",
       "        text-align: right;\n",
       "    }\n",
       "</style>\n",
       "<table border=\"1\" class=\"dataframe\">\n",
       "  <thead>\n",
       "    <tr style=\"text-align: right;\">\n",
       "      <th></th>\n",
       "      <th>damage_grade</th>\n",
       "      <th>geo_level_1_id</th>\n",
       "      <th>geo_level_2_id</th>\n",
       "      <th>geo_level_3_id</th>\n",
       "      <th>count_floors_pre_eq</th>\n",
       "      <th>age</th>\n",
       "      <th>area_percentage</th>\n",
       "      <th>height_percentage</th>\n",
       "      <th>land_surface_condition</th>\n",
       "      <th>foundation_type</th>\n",
       "      <th>...</th>\n",
       "      <th>has_secondary_use_agriculture</th>\n",
       "      <th>has_secondary_use_hotel</th>\n",
       "      <th>has_secondary_use_rental</th>\n",
       "      <th>has_secondary_use_institution</th>\n",
       "      <th>has_secondary_use_school</th>\n",
       "      <th>has_secondary_use_industry</th>\n",
       "      <th>has_secondary_use_health_post</th>\n",
       "      <th>has_secondary_use_gov_office</th>\n",
       "      <th>has_secondary_use_use_police</th>\n",
       "      <th>has_secondary_use_other</th>\n",
       "    </tr>\n",
       "    <tr>\n",
       "      <th>building_id</th>\n",
       "      <th></th>\n",
       "      <th></th>\n",
       "      <th></th>\n",
       "      <th></th>\n",
       "      <th></th>\n",
       "      <th></th>\n",
       "      <th></th>\n",
       "      <th></th>\n",
       "      <th></th>\n",
       "      <th></th>\n",
       "      <th></th>\n",
       "      <th></th>\n",
       "      <th></th>\n",
       "      <th></th>\n",
       "      <th></th>\n",
       "      <th></th>\n",
       "      <th></th>\n",
       "      <th></th>\n",
       "      <th></th>\n",
       "      <th></th>\n",
       "      <th></th>\n",
       "    </tr>\n",
       "  </thead>\n",
       "  <tbody>\n",
       "    <tr>\n",
       "      <th>802906</th>\n",
       "      <td>3</td>\n",
       "      <td>6</td>\n",
       "      <td>487</td>\n",
       "      <td>12198</td>\n",
       "      <td>2</td>\n",
       "      <td>30</td>\n",
       "      <td>6</td>\n",
       "      <td>5</td>\n",
       "      <td>t</td>\n",
       "      <td>r</td>\n",
       "      <td>...</td>\n",
       "      <td>0</td>\n",
       "      <td>0</td>\n",
       "      <td>0</td>\n",
       "      <td>0</td>\n",
       "      <td>0</td>\n",
       "      <td>0</td>\n",
       "      <td>0</td>\n",
       "      <td>0</td>\n",
       "      <td>0</td>\n",
       "      <td>0</td>\n",
       "    </tr>\n",
       "    <tr>\n",
       "      <th>28830</th>\n",
       "      <td>2</td>\n",
       "      <td>8</td>\n",
       "      <td>900</td>\n",
       "      <td>2812</td>\n",
       "      <td>2</td>\n",
       "      <td>10</td>\n",
       "      <td>8</td>\n",
       "      <td>7</td>\n",
       "      <td>o</td>\n",
       "      <td>r</td>\n",
       "      <td>...</td>\n",
       "      <td>0</td>\n",
       "      <td>0</td>\n",
       "      <td>0</td>\n",
       "      <td>0</td>\n",
       "      <td>0</td>\n",
       "      <td>0</td>\n",
       "      <td>0</td>\n",
       "      <td>0</td>\n",
       "      <td>0</td>\n",
       "      <td>0</td>\n",
       "    </tr>\n",
       "    <tr>\n",
       "      <th>94947</th>\n",
       "      <td>3</td>\n",
       "      <td>21</td>\n",
       "      <td>363</td>\n",
       "      <td>8973</td>\n",
       "      <td>2</td>\n",
       "      <td>10</td>\n",
       "      <td>5</td>\n",
       "      <td>5</td>\n",
       "      <td>t</td>\n",
       "      <td>r</td>\n",
       "      <td>...</td>\n",
       "      <td>0</td>\n",
       "      <td>0</td>\n",
       "      <td>0</td>\n",
       "      <td>0</td>\n",
       "      <td>0</td>\n",
       "      <td>0</td>\n",
       "      <td>0</td>\n",
       "      <td>0</td>\n",
       "      <td>0</td>\n",
       "      <td>0</td>\n",
       "    </tr>\n",
       "    <tr>\n",
       "      <th>590882</th>\n",
       "      <td>2</td>\n",
       "      <td>22</td>\n",
       "      <td>418</td>\n",
       "      <td>10694</td>\n",
       "      <td>2</td>\n",
       "      <td>10</td>\n",
       "      <td>6</td>\n",
       "      <td>5</td>\n",
       "      <td>t</td>\n",
       "      <td>r</td>\n",
       "      <td>...</td>\n",
       "      <td>0</td>\n",
       "      <td>0</td>\n",
       "      <td>0</td>\n",
       "      <td>0</td>\n",
       "      <td>0</td>\n",
       "      <td>0</td>\n",
       "      <td>0</td>\n",
       "      <td>0</td>\n",
       "      <td>0</td>\n",
       "      <td>0</td>\n",
       "    </tr>\n",
       "    <tr>\n",
       "      <th>201944</th>\n",
       "      <td>3</td>\n",
       "      <td>11</td>\n",
       "      <td>131</td>\n",
       "      <td>1488</td>\n",
       "      <td>3</td>\n",
       "      <td>30</td>\n",
       "      <td>8</td>\n",
       "      <td>9</td>\n",
       "      <td>t</td>\n",
       "      <td>r</td>\n",
       "      <td>...</td>\n",
       "      <td>0</td>\n",
       "      <td>0</td>\n",
       "      <td>0</td>\n",
       "      <td>0</td>\n",
       "      <td>0</td>\n",
       "      <td>0</td>\n",
       "      <td>0</td>\n",
       "      <td>0</td>\n",
       "      <td>0</td>\n",
       "      <td>0</td>\n",
       "    </tr>\n",
       "  </tbody>\n",
       "</table>\n",
       "<p>5 rows × 39 columns</p>\n",
       "</div>"
      ],
      "text/plain": [
       "             damage_grade  geo_level_1_id  geo_level_2_id  geo_level_3_id  \\\n",
       "building_id                                                                 \n",
       "802906                  3               6             487           12198   \n",
       "28830                   2               8             900            2812   \n",
       "94947                   3              21             363            8973   \n",
       "590882                  2              22             418           10694   \n",
       "201944                  3              11             131            1488   \n",
       "\n",
       "             count_floors_pre_eq  age  area_percentage  height_percentage  \\\n",
       "building_id                                                                 \n",
       "802906                         2   30                6                  5   \n",
       "28830                          2   10                8                  7   \n",
       "94947                          2   10                5                  5   \n",
       "590882                         2   10                6                  5   \n",
       "201944                         3   30                8                  9   \n",
       "\n",
       "            land_surface_condition foundation_type  ...  \\\n",
       "building_id                                         ...   \n",
       "802906                           t               r  ...   \n",
       "28830                            o               r  ...   \n",
       "94947                            t               r  ...   \n",
       "590882                           t               r  ...   \n",
       "201944                           t               r  ...   \n",
       "\n",
       "            has_secondary_use_agriculture has_secondary_use_hotel  \\\n",
       "building_id                                                         \n",
       "802906                                  0                       0   \n",
       "28830                                   0                       0   \n",
       "94947                                   0                       0   \n",
       "590882                                  0                       0   \n",
       "201944                                  0                       0   \n",
       "\n",
       "            has_secondary_use_rental has_secondary_use_institution  \\\n",
       "building_id                                                          \n",
       "802906                             0                             0   \n",
       "28830                              0                             0   \n",
       "94947                              0                             0   \n",
       "590882                             0                             0   \n",
       "201944                             0                             0   \n",
       "\n",
       "            has_secondary_use_school  has_secondary_use_industry  \\\n",
       "building_id                                                        \n",
       "802906                             0                           0   \n",
       "28830                              0                           0   \n",
       "94947                              0                           0   \n",
       "590882                             0                           0   \n",
       "201944                             0                           0   \n",
       "\n",
       "             has_secondary_use_health_post  has_secondary_use_gov_office  \\\n",
       "building_id                                                                \n",
       "802906                                   0                             0   \n",
       "28830                                    0                             0   \n",
       "94947                                    0                             0   \n",
       "590882                                   0                             0   \n",
       "201944                                   0                             0   \n",
       "\n",
       "             has_secondary_use_use_police  has_secondary_use_other  \n",
       "building_id                                                         \n",
       "802906                                  0                        0  \n",
       "28830                                   0                        0  \n",
       "94947                                   0                        0  \n",
       "590882                                  0                        0  \n",
       "201944                                  0                        0  \n",
       "\n",
       "[5 rows x 39 columns]"
      ]
     },
     "execution_count": 6,
     "metadata": {},
     "output_type": "execute_result"
    }
   ],
   "source": [
    "df_train_test.head()"
   ]
  },
  {
   "cell_type": "markdown",
   "id": "01cf38e9-2207-406e-9ec3-a785a2877e9a",
   "metadata": {},
   "source": [
    "## Chequeo de nulos"
   ]
  },
  {
   "cell_type": "code",
   "execution_count": 7,
   "id": "1990a3d7-7228-4164-b3f7-5609c354de23",
   "metadata": {},
   "outputs": [
    {
     "data": {
      "text/plain": [
       "damage_grade                              0\n",
       "geo_level_1_id                            0\n",
       "geo_level_2_id                            0\n",
       "geo_level_3_id                            0\n",
       "count_floors_pre_eq                       0\n",
       "age                                       0\n",
       "area_percentage                           0\n",
       "height_percentage                         0\n",
       "land_surface_condition                    0\n",
       "foundation_type                           0\n",
       "roof_type                                 0\n",
       "ground_floor_type                         0\n",
       "other_floor_type                          0\n",
       "position                                  0\n",
       "plan_configuration                        0\n",
       "has_superstructure_adobe_mud              0\n",
       "has_superstructure_mud_mortar_stone       0\n",
       "has_superstructure_stone_flag             0\n",
       "has_superstructure_cement_mortar_stone    0\n",
       "has_superstructure_mud_mortar_brick       0\n",
       "has_superstructure_cement_mortar_brick    0\n",
       "has_superstructure_timber                 0\n",
       "has_superstructure_bamboo                 0\n",
       "has_superstructure_rc_non_engineered      0\n",
       "has_superstructure_rc_engineered          0\n",
       "has_superstructure_other                  0\n",
       "legal_ownership_status                    0\n",
       "count_families                            0\n",
       "has_secondary_use                         0\n",
       "has_secondary_use_agriculture             0\n",
       "has_secondary_use_hotel                   0\n",
       "has_secondary_use_rental                  0\n",
       "has_secondary_use_institution             0\n",
       "has_secondary_use_school                  0\n",
       "has_secondary_use_industry                0\n",
       "has_secondary_use_health_post             0\n",
       "has_secondary_use_gov_office              0\n",
       "has_secondary_use_use_police              0\n",
       "has_secondary_use_other                   0\n",
       "dtype: int64"
      ]
     },
     "execution_count": 7,
     "metadata": {},
     "output_type": "execute_result"
    }
   ],
   "source": [
    "df_train_test.isnull().sum()"
   ]
  },
  {
   "cell_type": "markdown",
   "id": "0361792e-4d48-4585-bdf2-6f06134ff244",
   "metadata": {},
   "source": [
    "## Chequeo de duplicados"
   ]
  },
  {
   "cell_type": "markdown",
   "id": "20db1c74-9575-477f-b9f8-c8dadf8bbf98",
   "metadata": {},
   "source": [
    "Revisamos si hay registros iguales por error de carga. A priori como los datasets tienen un building_id, esto no deberia suceder."
   ]
  },
  {
   "cell_type": "code",
   "execution_count": 8,
   "id": "53c46bba-ff1b-4ad9-a81e-3f481d0092d0",
   "metadata": {},
   "outputs": [
    {
     "data": {
      "text/html": [
       "<div>\n",
       "<style scoped>\n",
       "    .dataframe tbody tr th:only-of-type {\n",
       "        vertical-align: middle;\n",
       "    }\n",
       "\n",
       "    .dataframe tbody tr th {\n",
       "        vertical-align: top;\n",
       "    }\n",
       "\n",
       "    .dataframe thead th {\n",
       "        text-align: right;\n",
       "    }\n",
       "</style>\n",
       "<table border=\"1\" class=\"dataframe\">\n",
       "  <thead>\n",
       "    <tr style=\"text-align: right;\">\n",
       "      <th></th>\n",
       "      <th>damage_grade</th>\n",
       "      <th>geo_level_1_id</th>\n",
       "      <th>geo_level_2_id</th>\n",
       "      <th>geo_level_3_id</th>\n",
       "      <th>count_floors_pre_eq</th>\n",
       "      <th>age</th>\n",
       "      <th>area_percentage</th>\n",
       "      <th>height_percentage</th>\n",
       "      <th>land_surface_condition</th>\n",
       "      <th>foundation_type</th>\n",
       "      <th>...</th>\n",
       "      <th>has_secondary_use_agriculture</th>\n",
       "      <th>has_secondary_use_hotel</th>\n",
       "      <th>has_secondary_use_rental</th>\n",
       "      <th>has_secondary_use_institution</th>\n",
       "      <th>has_secondary_use_school</th>\n",
       "      <th>has_secondary_use_industry</th>\n",
       "      <th>has_secondary_use_health_post</th>\n",
       "      <th>has_secondary_use_gov_office</th>\n",
       "      <th>has_secondary_use_use_police</th>\n",
       "      <th>has_secondary_use_other</th>\n",
       "    </tr>\n",
       "    <tr>\n",
       "      <th>building_id</th>\n",
       "      <th></th>\n",
       "      <th></th>\n",
       "      <th></th>\n",
       "      <th></th>\n",
       "      <th></th>\n",
       "      <th></th>\n",
       "      <th></th>\n",
       "      <th></th>\n",
       "      <th></th>\n",
       "      <th></th>\n",
       "      <th></th>\n",
       "      <th></th>\n",
       "      <th></th>\n",
       "      <th></th>\n",
       "      <th></th>\n",
       "      <th></th>\n",
       "      <th></th>\n",
       "      <th></th>\n",
       "      <th></th>\n",
       "      <th></th>\n",
       "      <th></th>\n",
       "    </tr>\n",
       "  </thead>\n",
       "  <tbody>\n",
       "    <tr>\n",
       "      <th>242723</th>\n",
       "      <td>1</td>\n",
       "      <td>20</td>\n",
       "      <td>508</td>\n",
       "      <td>11256</td>\n",
       "      <td>2</td>\n",
       "      <td>10</td>\n",
       "      <td>9</td>\n",
       "      <td>6</td>\n",
       "      <td>t</td>\n",
       "      <td>w</td>\n",
       "      <td>...</td>\n",
       "      <td>0</td>\n",
       "      <td>0</td>\n",
       "      <td>0</td>\n",
       "      <td>0</td>\n",
       "      <td>0</td>\n",
       "      <td>0</td>\n",
       "      <td>0</td>\n",
       "      <td>0</td>\n",
       "      <td>0</td>\n",
       "      <td>0</td>\n",
       "    </tr>\n",
       "    <tr>\n",
       "      <th>461019</th>\n",
       "      <td>3</td>\n",
       "      <td>21</td>\n",
       "      <td>111</td>\n",
       "      <td>11714</td>\n",
       "      <td>2</td>\n",
       "      <td>10</td>\n",
       "      <td>9</td>\n",
       "      <td>5</td>\n",
       "      <td>t</td>\n",
       "      <td>r</td>\n",
       "      <td>...</td>\n",
       "      <td>0</td>\n",
       "      <td>0</td>\n",
       "      <td>0</td>\n",
       "      <td>0</td>\n",
       "      <td>0</td>\n",
       "      <td>0</td>\n",
       "      <td>0</td>\n",
       "      <td>0</td>\n",
       "      <td>0</td>\n",
       "      <td>0</td>\n",
       "    </tr>\n",
       "    <tr>\n",
       "      <th>505127</th>\n",
       "      <td>2</td>\n",
       "      <td>6</td>\n",
       "      <td>1108</td>\n",
       "      <td>5909</td>\n",
       "      <td>2</td>\n",
       "      <td>30</td>\n",
       "      <td>4</td>\n",
       "      <td>7</td>\n",
       "      <td>t</td>\n",
       "      <td>r</td>\n",
       "      <td>...</td>\n",
       "      <td>0</td>\n",
       "      <td>0</td>\n",
       "      <td>0</td>\n",
       "      <td>0</td>\n",
       "      <td>0</td>\n",
       "      <td>0</td>\n",
       "      <td>0</td>\n",
       "      <td>0</td>\n",
       "      <td>0</td>\n",
       "      <td>0</td>\n",
       "    </tr>\n",
       "    <tr>\n",
       "      <th>553217</th>\n",
       "      <td>3</td>\n",
       "      <td>27</td>\n",
       "      <td>269</td>\n",
       "      <td>11121</td>\n",
       "      <td>2</td>\n",
       "      <td>15</td>\n",
       "      <td>10</td>\n",
       "      <td>7</td>\n",
       "      <td>n</td>\n",
       "      <td>r</td>\n",
       "      <td>...</td>\n",
       "      <td>0</td>\n",
       "      <td>0</td>\n",
       "      <td>0</td>\n",
       "      <td>0</td>\n",
       "      <td>0</td>\n",
       "      <td>0</td>\n",
       "      <td>0</td>\n",
       "      <td>0</td>\n",
       "      <td>0</td>\n",
       "      <td>0</td>\n",
       "    </tr>\n",
       "    <tr>\n",
       "      <th>369695</th>\n",
       "      <td>3</td>\n",
       "      <td>10</td>\n",
       "      <td>1382</td>\n",
       "      <td>5036</td>\n",
       "      <td>2</td>\n",
       "      <td>15</td>\n",
       "      <td>5</td>\n",
       "      <td>5</td>\n",
       "      <td>t</td>\n",
       "      <td>r</td>\n",
       "      <td>...</td>\n",
       "      <td>0</td>\n",
       "      <td>0</td>\n",
       "      <td>0</td>\n",
       "      <td>0</td>\n",
       "      <td>0</td>\n",
       "      <td>0</td>\n",
       "      <td>0</td>\n",
       "      <td>0</td>\n",
       "      <td>0</td>\n",
       "      <td>0</td>\n",
       "    </tr>\n",
       "    <tr>\n",
       "      <th>...</th>\n",
       "      <td>...</td>\n",
       "      <td>...</td>\n",
       "      <td>...</td>\n",
       "      <td>...</td>\n",
       "      <td>...</td>\n",
       "      <td>...</td>\n",
       "      <td>...</td>\n",
       "      <td>...</td>\n",
       "      <td>...</td>\n",
       "      <td>...</td>\n",
       "      <td>...</td>\n",
       "      <td>...</td>\n",
       "      <td>...</td>\n",
       "      <td>...</td>\n",
       "      <td>...</td>\n",
       "      <td>...</td>\n",
       "      <td>...</td>\n",
       "      <td>...</td>\n",
       "      <td>...</td>\n",
       "      <td>...</td>\n",
       "      <td>...</td>\n",
       "    </tr>\n",
       "    <tr>\n",
       "      <th>937909</th>\n",
       "      <td>-1</td>\n",
       "      <td>8</td>\n",
       "      <td>979</td>\n",
       "      <td>1792</td>\n",
       "      <td>2</td>\n",
       "      <td>10</td>\n",
       "      <td>7</td>\n",
       "      <td>4</td>\n",
       "      <td>t</td>\n",
       "      <td>r</td>\n",
       "      <td>...</td>\n",
       "      <td>0</td>\n",
       "      <td>0</td>\n",
       "      <td>0</td>\n",
       "      <td>0</td>\n",
       "      <td>0</td>\n",
       "      <td>0</td>\n",
       "      <td>0</td>\n",
       "      <td>0</td>\n",
       "      <td>0</td>\n",
       "      <td>0</td>\n",
       "    </tr>\n",
       "    <tr>\n",
       "      <th>907593</th>\n",
       "      <td>-1</td>\n",
       "      <td>2</td>\n",
       "      <td>1156</td>\n",
       "      <td>10084</td>\n",
       "      <td>2</td>\n",
       "      <td>20</td>\n",
       "      <td>7</td>\n",
       "      <td>4</td>\n",
       "      <td>t</td>\n",
       "      <td>r</td>\n",
       "      <td>...</td>\n",
       "      <td>0</td>\n",
       "      <td>0</td>\n",
       "      <td>0</td>\n",
       "      <td>0</td>\n",
       "      <td>0</td>\n",
       "      <td>0</td>\n",
       "      <td>0</td>\n",
       "      <td>0</td>\n",
       "      <td>0</td>\n",
       "      <td>0</td>\n",
       "    </tr>\n",
       "    <tr>\n",
       "      <th>636695</th>\n",
       "      <td>-1</td>\n",
       "      <td>8</td>\n",
       "      <td>1415</td>\n",
       "      <td>3525</td>\n",
       "      <td>3</td>\n",
       "      <td>25</td>\n",
       "      <td>4</td>\n",
       "      <td>8</td>\n",
       "      <td>t</td>\n",
       "      <td>r</td>\n",
       "      <td>...</td>\n",
       "      <td>0</td>\n",
       "      <td>0</td>\n",
       "      <td>0</td>\n",
       "      <td>0</td>\n",
       "      <td>0</td>\n",
       "      <td>0</td>\n",
       "      <td>0</td>\n",
       "      <td>0</td>\n",
       "      <td>0</td>\n",
       "      <td>0</td>\n",
       "    </tr>\n",
       "    <tr>\n",
       "      <th>243364</th>\n",
       "      <td>-1</td>\n",
       "      <td>17</td>\n",
       "      <td>1381</td>\n",
       "      <td>12281</td>\n",
       "      <td>3</td>\n",
       "      <td>25</td>\n",
       "      <td>7</td>\n",
       "      <td>7</td>\n",
       "      <td>t</td>\n",
       "      <td>r</td>\n",
       "      <td>...</td>\n",
       "      <td>0</td>\n",
       "      <td>0</td>\n",
       "      <td>0</td>\n",
       "      <td>0</td>\n",
       "      <td>0</td>\n",
       "      <td>0</td>\n",
       "      <td>0</td>\n",
       "      <td>0</td>\n",
       "      <td>0</td>\n",
       "      <td>0</td>\n",
       "    </tr>\n",
       "    <tr>\n",
       "      <th>166180</th>\n",
       "      <td>-1</td>\n",
       "      <td>13</td>\n",
       "      <td>1053</td>\n",
       "      <td>7597</td>\n",
       "      <td>1</td>\n",
       "      <td>5</td>\n",
       "      <td>6</td>\n",
       "      <td>4</td>\n",
       "      <td>o</td>\n",
       "      <td>r</td>\n",
       "      <td>...</td>\n",
       "      <td>0</td>\n",
       "      <td>0</td>\n",
       "      <td>0</td>\n",
       "      <td>0</td>\n",
       "      <td>0</td>\n",
       "      <td>0</td>\n",
       "      <td>0</td>\n",
       "      <td>0</td>\n",
       "      <td>0</td>\n",
       "      <td>0</td>\n",
       "    </tr>\n",
       "  </tbody>\n",
       "</table>\n",
       "<p>14362 rows × 39 columns</p>\n",
       "</div>"
      ],
      "text/plain": [
       "             damage_grade  geo_level_1_id  geo_level_2_id  geo_level_3_id  \\\n",
       "building_id                                                                 \n",
       "242723                  1              20             508           11256   \n",
       "461019                  3              21             111           11714   \n",
       "505127                  2               6            1108            5909   \n",
       "553217                  3              27             269           11121   \n",
       "369695                  3              10            1382            5036   \n",
       "...                   ...             ...             ...             ...   \n",
       "937909                 -1               8             979            1792   \n",
       "907593                 -1               2            1156           10084   \n",
       "636695                 -1               8            1415            3525   \n",
       "243364                 -1              17            1381           12281   \n",
       "166180                 -1              13            1053            7597   \n",
       "\n",
       "             count_floors_pre_eq  age  area_percentage  height_percentage  \\\n",
       "building_id                                                                 \n",
       "242723                         2   10                9                  6   \n",
       "461019                         2   10                9                  5   \n",
       "505127                         2   30                4                  7   \n",
       "553217                         2   15               10                  7   \n",
       "369695                         2   15                5                  5   \n",
       "...                          ...  ...              ...                ...   \n",
       "937909                         2   10                7                  4   \n",
       "907593                         2   20                7                  4   \n",
       "636695                         3   25                4                  8   \n",
       "243364                         3   25                7                  7   \n",
       "166180                         1    5                6                  4   \n",
       "\n",
       "            land_surface_condition foundation_type  ...  \\\n",
       "building_id                                         ...   \n",
       "242723                           t               w  ...   \n",
       "461019                           t               r  ...   \n",
       "505127                           t               r  ...   \n",
       "553217                           n               r  ...   \n",
       "369695                           t               r  ...   \n",
       "...                            ...             ...  ...   \n",
       "937909                           t               r  ...   \n",
       "907593                           t               r  ...   \n",
       "636695                           t               r  ...   \n",
       "243364                           t               r  ...   \n",
       "166180                           o               r  ...   \n",
       "\n",
       "            has_secondary_use_agriculture has_secondary_use_hotel  \\\n",
       "building_id                                                         \n",
       "242723                                  0                       0   \n",
       "461019                                  0                       0   \n",
       "505127                                  0                       0   \n",
       "553217                                  0                       0   \n",
       "369695                                  0                       0   \n",
       "...                                   ...                     ...   \n",
       "937909                                  0                       0   \n",
       "907593                                  0                       0   \n",
       "636695                                  0                       0   \n",
       "243364                                  0                       0   \n",
       "166180                                  0                       0   \n",
       "\n",
       "            has_secondary_use_rental has_secondary_use_institution  \\\n",
       "building_id                                                          \n",
       "242723                             0                             0   \n",
       "461019                             0                             0   \n",
       "505127                             0                             0   \n",
       "553217                             0                             0   \n",
       "369695                             0                             0   \n",
       "...                              ...                           ...   \n",
       "937909                             0                             0   \n",
       "907593                             0                             0   \n",
       "636695                             0                             0   \n",
       "243364                             0                             0   \n",
       "166180                             0                             0   \n",
       "\n",
       "            has_secondary_use_school  has_secondary_use_industry  \\\n",
       "building_id                                                        \n",
       "242723                             0                           0   \n",
       "461019                             0                           0   \n",
       "505127                             0                           0   \n",
       "553217                             0                           0   \n",
       "369695                             0                           0   \n",
       "...                              ...                         ...   \n",
       "937909                             0                           0   \n",
       "907593                             0                           0   \n",
       "636695                             0                           0   \n",
       "243364                             0                           0   \n",
       "166180                             0                           0   \n",
       "\n",
       "             has_secondary_use_health_post  has_secondary_use_gov_office  \\\n",
       "building_id                                                                \n",
       "242723                                   0                             0   \n",
       "461019                                   0                             0   \n",
       "505127                                   0                             0   \n",
       "553217                                   0                             0   \n",
       "369695                                   0                             0   \n",
       "...                                    ...                           ...   \n",
       "937909                                   0                             0   \n",
       "907593                                   0                             0   \n",
       "636695                                   0                             0   \n",
       "243364                                   0                             0   \n",
       "166180                                   0                             0   \n",
       "\n",
       "             has_secondary_use_use_police  has_secondary_use_other  \n",
       "building_id                                                         \n",
       "242723                                  0                        0  \n",
       "461019                                  0                        0  \n",
       "505127                                  0                        0  \n",
       "553217                                  0                        0  \n",
       "369695                                  0                        0  \n",
       "...                                   ...                      ...  \n",
       "937909                                  0                        0  \n",
       "907593                                  0                        0  \n",
       "636695                                  0                        0  \n",
       "243364                                  0                        0  \n",
       "166180                                  0                        0  \n",
       "\n",
       "[14362 rows x 39 columns]"
      ]
     },
     "execution_count": 8,
     "metadata": {},
     "output_type": "execute_result"
    }
   ],
   "source": [
    "posibles_duplicados = df_train_test[df_train_test.duplicated()]\n",
    "posibles_duplicados"
   ]
  },
  {
   "cell_type": "code",
   "execution_count": 9,
   "id": "daa720c2-7a6a-4453-b013-2a8a1cbd913e",
   "metadata": {},
   "outputs": [],
   "source": [
    "posibles_duplicados = posibles_duplicados.reset_index()"
   ]
  },
  {
   "cell_type": "code",
   "execution_count": 10,
   "id": "5a8b4dc1-fe89-45ea-bbd3-a75785eae2aa",
   "metadata": {},
   "outputs": [
    {
     "data": {
      "text/html": [
       "<div>\n",
       "<style scoped>\n",
       "    .dataframe tbody tr th:only-of-type {\n",
       "        vertical-align: middle;\n",
       "    }\n",
       "\n",
       "    .dataframe tbody tr th {\n",
       "        vertical-align: top;\n",
       "    }\n",
       "\n",
       "    .dataframe thead th {\n",
       "        text-align: right;\n",
       "    }\n",
       "</style>\n",
       "<table border=\"1\" class=\"dataframe\">\n",
       "  <thead>\n",
       "    <tr style=\"text-align: right;\">\n",
       "      <th></th>\n",
       "      <th>building_id</th>\n",
       "      <th>damage_grade</th>\n",
       "      <th>geo_level_1_id</th>\n",
       "      <th>geo_level_2_id</th>\n",
       "      <th>geo_level_3_id</th>\n",
       "      <th>count_floors_pre_eq</th>\n",
       "      <th>age</th>\n",
       "      <th>area_percentage</th>\n",
       "      <th>height_percentage</th>\n",
       "      <th>land_surface_condition</th>\n",
       "      <th>...</th>\n",
       "      <th>has_secondary_use_agriculture</th>\n",
       "      <th>has_secondary_use_hotel</th>\n",
       "      <th>has_secondary_use_rental</th>\n",
       "      <th>has_secondary_use_institution</th>\n",
       "      <th>has_secondary_use_school</th>\n",
       "      <th>has_secondary_use_industry</th>\n",
       "      <th>has_secondary_use_health_post</th>\n",
       "      <th>has_secondary_use_gov_office</th>\n",
       "      <th>has_secondary_use_use_police</th>\n",
       "      <th>has_secondary_use_other</th>\n",
       "    </tr>\n",
       "  </thead>\n",
       "  <tbody>\n",
       "    <tr>\n",
       "      <th>0</th>\n",
       "      <td>242723</td>\n",
       "      <td>1</td>\n",
       "      <td>20</td>\n",
       "      <td>508</td>\n",
       "      <td>11256</td>\n",
       "      <td>2</td>\n",
       "      <td>10</td>\n",
       "      <td>9</td>\n",
       "      <td>6</td>\n",
       "      <td>t</td>\n",
       "      <td>...</td>\n",
       "      <td>0</td>\n",
       "      <td>0</td>\n",
       "      <td>0</td>\n",
       "      <td>0</td>\n",
       "      <td>0</td>\n",
       "      <td>0</td>\n",
       "      <td>0</td>\n",
       "      <td>0</td>\n",
       "      <td>0</td>\n",
       "      <td>0</td>\n",
       "    </tr>\n",
       "    <tr>\n",
       "      <th>1</th>\n",
       "      <td>461019</td>\n",
       "      <td>3</td>\n",
       "      <td>21</td>\n",
       "      <td>111</td>\n",
       "      <td>11714</td>\n",
       "      <td>2</td>\n",
       "      <td>10</td>\n",
       "      <td>9</td>\n",
       "      <td>5</td>\n",
       "      <td>t</td>\n",
       "      <td>...</td>\n",
       "      <td>0</td>\n",
       "      <td>0</td>\n",
       "      <td>0</td>\n",
       "      <td>0</td>\n",
       "      <td>0</td>\n",
       "      <td>0</td>\n",
       "      <td>0</td>\n",
       "      <td>0</td>\n",
       "      <td>0</td>\n",
       "      <td>0</td>\n",
       "    </tr>\n",
       "    <tr>\n",
       "      <th>2</th>\n",
       "      <td>505127</td>\n",
       "      <td>2</td>\n",
       "      <td>6</td>\n",
       "      <td>1108</td>\n",
       "      <td>5909</td>\n",
       "      <td>2</td>\n",
       "      <td>30</td>\n",
       "      <td>4</td>\n",
       "      <td>7</td>\n",
       "      <td>t</td>\n",
       "      <td>...</td>\n",
       "      <td>0</td>\n",
       "      <td>0</td>\n",
       "      <td>0</td>\n",
       "      <td>0</td>\n",
       "      <td>0</td>\n",
       "      <td>0</td>\n",
       "      <td>0</td>\n",
       "      <td>0</td>\n",
       "      <td>0</td>\n",
       "      <td>0</td>\n",
       "    </tr>\n",
       "    <tr>\n",
       "      <th>3</th>\n",
       "      <td>553217</td>\n",
       "      <td>3</td>\n",
       "      <td>27</td>\n",
       "      <td>269</td>\n",
       "      <td>11121</td>\n",
       "      <td>2</td>\n",
       "      <td>15</td>\n",
       "      <td>10</td>\n",
       "      <td>7</td>\n",
       "      <td>n</td>\n",
       "      <td>...</td>\n",
       "      <td>0</td>\n",
       "      <td>0</td>\n",
       "      <td>0</td>\n",
       "      <td>0</td>\n",
       "      <td>0</td>\n",
       "      <td>0</td>\n",
       "      <td>0</td>\n",
       "      <td>0</td>\n",
       "      <td>0</td>\n",
       "      <td>0</td>\n",
       "    </tr>\n",
       "    <tr>\n",
       "      <th>4</th>\n",
       "      <td>369695</td>\n",
       "      <td>3</td>\n",
       "      <td>10</td>\n",
       "      <td>1382</td>\n",
       "      <td>5036</td>\n",
       "      <td>2</td>\n",
       "      <td>15</td>\n",
       "      <td>5</td>\n",
       "      <td>5</td>\n",
       "      <td>t</td>\n",
       "      <td>...</td>\n",
       "      <td>0</td>\n",
       "      <td>0</td>\n",
       "      <td>0</td>\n",
       "      <td>0</td>\n",
       "      <td>0</td>\n",
       "      <td>0</td>\n",
       "      <td>0</td>\n",
       "      <td>0</td>\n",
       "      <td>0</td>\n",
       "      <td>0</td>\n",
       "    </tr>\n",
       "  </tbody>\n",
       "</table>\n",
       "<p>5 rows × 40 columns</p>\n",
       "</div>"
      ],
      "text/plain": [
       "   building_id  damage_grade  geo_level_1_id  geo_level_2_id  geo_level_3_id  \\\n",
       "0       242723             1              20             508           11256   \n",
       "1       461019             3              21             111           11714   \n",
       "2       505127             2               6            1108            5909   \n",
       "3       553217             3              27             269           11121   \n",
       "4       369695             3              10            1382            5036   \n",
       "\n",
       "   count_floors_pre_eq  age  area_percentage  height_percentage  \\\n",
       "0                    2   10                9                  6   \n",
       "1                    2   10                9                  5   \n",
       "2                    2   30                4                  7   \n",
       "3                    2   15               10                  7   \n",
       "4                    2   15                5                  5   \n",
       "\n",
       "  land_surface_condition  ... has_secondary_use_agriculture  \\\n",
       "0                      t  ...                             0   \n",
       "1                      t  ...                             0   \n",
       "2                      t  ...                             0   \n",
       "3                      n  ...                             0   \n",
       "4                      t  ...                             0   \n",
       "\n",
       "  has_secondary_use_hotel has_secondary_use_rental  \\\n",
       "0                       0                        0   \n",
       "1                       0                        0   \n",
       "2                       0                        0   \n",
       "3                       0                        0   \n",
       "4                       0                        0   \n",
       "\n",
       "  has_secondary_use_institution has_secondary_use_school  \\\n",
       "0                             0                        0   \n",
       "1                             0                        0   \n",
       "2                             0                        0   \n",
       "3                             0                        0   \n",
       "4                             0                        0   \n",
       "\n",
       "  has_secondary_use_industry  has_secondary_use_health_post  \\\n",
       "0                          0                              0   \n",
       "1                          0                              0   \n",
       "2                          0                              0   \n",
       "3                          0                              0   \n",
       "4                          0                              0   \n",
       "\n",
       "   has_secondary_use_gov_office  has_secondary_use_use_police  \\\n",
       "0                             0                             0   \n",
       "1                             0                             0   \n",
       "2                             0                             0   \n",
       "3                             0                             0   \n",
       "4                             0                             0   \n",
       "\n",
       "   has_secondary_use_other  \n",
       "0                        0  \n",
       "1                        0  \n",
       "2                        0  \n",
       "3                        0  \n",
       "4                        0  \n",
       "\n",
       "[5 rows x 40 columns]"
      ]
     },
     "execution_count": 10,
     "metadata": {},
     "output_type": "execute_result"
    }
   ],
   "source": [
    "posibles_duplicados.head()"
   ]
  },
  {
   "cell_type": "code",
   "execution_count": 11,
   "id": "db62e26e-3ffb-4e21-9533-339e6a42c8aa",
   "metadata": {},
   "outputs": [
    {
     "data": {
      "text/plain": [
       "242723    1\n",
       "319544    1\n",
       "600267    1\n",
       "452422    1\n",
       "428369    1\n",
       "         ..\n",
       "446810    1\n",
       "317561    1\n",
       "772085    1\n",
       "649401    1\n",
       "166180    1\n",
       "Name: building_id, Length: 14362, dtype: int64"
      ]
     },
     "execution_count": 11,
     "metadata": {},
     "output_type": "execute_result"
    }
   ],
   "source": [
    "posibles_duplicados['building_id'].value_counts()"
   ]
  },
  {
   "cell_type": "code",
   "execution_count": 12,
   "id": "937d09ab-9cd1-4ebe-b793-0e277c510bef",
   "metadata": {},
   "outputs": [
    {
     "data": {
      "text/plain": [
       "14362"
      ]
     },
     "execution_count": 12,
     "metadata": {},
     "output_type": "execute_result"
    }
   ],
   "source": [
    "posibles_duplicados['building_id'].value_counts().sum()"
   ]
  },
  {
   "cell_type": "markdown",
   "id": "66a12b8a-6817-41cf-a6b4-5d506cb45439",
   "metadata": {},
   "source": [
    "Vemos que los posibles duplicados no lo son ya que tienen distinto building_id"
   ]
  },
  {
   "cell_type": "markdown",
   "id": "50fe853b-81b4-4765-87a7-5b145e7576f3",
   "metadata": {},
   "source": [
    "## Verificando outliers"
   ]
  },
  {
   "cell_type": "markdown",
   "id": "096ac583-3f11-4352-a335-e10a4e1f043f",
   "metadata": {},
   "source": [
    "En particular, usamos el metodo de boxplot con su intercuantil. Si un valor es mayor a 3 \\* IQR por arriba del Q3, el valor es considerado un outlier. Al mismo tiempo, si un valor es menor a 3 \\* IQR por abajo de Q1, entonces el valor va a ser considerado un outlier.\n",
    "\n",
    "> https://www.listendata.com/2015/01/detecting-and-solving-problem-of-outlier.html"
   ]
  },
  {
   "cell_type": "code",
   "execution_count": 13,
   "id": "fcf14cdf-3bae-4277-aa38-d208165360be",
   "metadata": {},
   "outputs": [],
   "source": [
    "def eliminar_outliers_segun_iqr(df, feature):\n",
    "    q1 = df[feature].quantile(0.25)\n",
    "    q3 = df[feature].quantile(0.75)\n",
    "    iqr = q3 - q1\n",
    "    h = 3 * iqr\n",
    "    # Reemplazamos los outliers\n",
    "    df.loc[df[feature] > q3 + h, feature] = q3 + h\n",
    "    df.loc[df[feature] < q1 - h, feature] = q1 - h"
   ]
  },
  {
   "cell_type": "markdown",
   "id": "0dcc99e1-5317-4d9b-b3ea-ab4f5f4138b3",
   "metadata": {},
   "source": [
    "### count_floors_pre_eq"
   ]
  },
  {
   "cell_type": "code",
   "execution_count": 14,
   "id": "8890e8be-6dc2-452b-8dc3-7b68e6a49a89",
   "metadata": {},
   "outputs": [
    {
     "data": {
      "text/plain": [
       "2    209029\n",
       "3     74171\n",
       "1     53705\n",
       "4      7186\n",
       "5      3039\n",
       "6       283\n",
       "7        52\n",
       "8         3\n",
       "9         1\n",
       "Name: count_floors_pre_eq, dtype: int64"
      ]
     },
     "execution_count": 14,
     "metadata": {},
     "output_type": "execute_result"
    }
   ],
   "source": [
    "df_train_test['count_floors_pre_eq'].value_counts()"
   ]
  },
  {
   "cell_type": "code",
   "execution_count": 15,
   "id": "516953c5-841a-4dd8-95fb-f71802a44e26",
   "metadata": {},
   "outputs": [
    {
     "data": {
      "text/plain": [
       "count             347,469.00\n",
       "mean                    2.13\n",
       "std                     0.73\n",
       "min                     1.00\n",
       "25%                     2.00\n",
       "50%                     2.00\n",
       "75%                     2.00\n",
       "max                     9.00\n",
       "Name: count_floors_pre_eq, dtype: float64"
      ]
     },
     "execution_count": 15,
     "metadata": {},
     "output_type": "execute_result"
    }
   ],
   "source": [
    "df_train_test['count_floors_pre_eq'].describe()"
   ]
  },
  {
   "cell_type": "code",
   "execution_count": 16,
   "id": "9f8d7bc4-544d-407d-abb3-d411e30b66d2",
   "metadata": {},
   "outputs": [
    {
     "data": {
      "image/png": "[encoded data removed]",
      "text/plain": [
       "<Figure size 960x720 with 1 Axes>"
      ]
     },
     "metadata": {},
     "output_type": "display_data"
    }
   ],
   "source": [
    "plt.figure(dpi=150)\n",
    "sns.countplot(df_train_test['count_floors_pre_eq'])\n",
    "plt.title(\"Cantidad de pisos previo al terremoto\", weight='bold')\n",
    "plt.show()"
   ]
  },
  {
   "cell_type": "code",
   "execution_count": 17,
   "id": "11853434-ec48-4214-b56f-94615786272a",
   "metadata": {},
   "outputs": [],
   "source": [
    "df_train_test.loc[(df_train_test['count_floors_pre_eq'] > 3), 'count_floors_pre_eq'] = 3"
   ]
  },
  {
   "cell_type": "code",
   "execution_count": 18,
   "id": "0c57b506-c7bc-4e47-becd-06da89db53df",
   "metadata": {},
   "outputs": [
    {
     "data": {
      "text/plain": [
       "count             347,469.00\n",
       "mean                    2.09\n",
       "std                     0.62\n",
       "min                     1.00\n",
       "25%                     2.00\n",
       "50%                     2.00\n",
       "75%                     2.00\n",
       "max                     3.00\n",
       "Name: count_floors_pre_eq, dtype: float64"
      ]
     },
     "execution_count": 18,
     "metadata": {},
     "output_type": "execute_result"
    }
   ],
   "source": [
    "df_train_test['count_floors_pre_eq'].describe()"
   ]
  },
  {
   "cell_type": "code",
   "execution_count": 19,
   "id": "3dd9cd6b-ba80-4d3d-a6f5-70baa32b9e23",
   "metadata": {},
   "outputs": [
    {
     "data": {
      "text/plain": [
       "2    209029\n",
       "3     84735\n",
       "1     53705\n",
       "Name: count_floors_pre_eq, dtype: int64"
      ]
     },
     "execution_count": 19,
     "metadata": {},
     "output_type": "execute_result"
    }
   ],
   "source": [
    "df_train_test['count_floors_pre_eq'].value_counts()"
   ]
  },
  {
   "cell_type": "markdown",
   "id": "d9eb0839-c3da-4d5a-abd5-1186ccdf76d6",
   "metadata": {},
   "source": [
    "### Age"
   ]
  },
  {
   "cell_type": "code",
   "execution_count": 20,
   "id": "87bdb6fc-ff69-4ad3-ad29-e76e6ff2e571",
   "metadata": {},
   "outputs": [
    {
     "data": {
      "text/plain": [
       "10     51680\n",
       "15     48074\n",
       "5      45045\n",
       "20     42792\n",
       "0      34725\n",
       "25     32586\n",
       "30     23977\n",
       "35     14420\n",
       "40     14050\n",
       "50      9619\n",
       "45      6255\n",
       "60      4773\n",
       "80      4087\n",
       "55      2695\n",
       "70      2679\n",
       "100     1880\n",
       "995     1851\n",
       "65      1497\n",
       "90      1426\n",
       "85      1133\n",
       "75       693\n",
       "95       547\n",
       "120      236\n",
       "150      179\n",
       "110      142\n",
       "200      140\n",
       "105      119\n",
       "125       62\n",
       "115       30\n",
       "130       13\n",
       "140       11\n",
       "180       11\n",
       "160        8\n",
       "170        7\n",
       "190        5\n",
       "175        5\n",
       "135        5\n",
       "155        4\n",
       "145        3\n",
       "195        2\n",
       "165        2\n",
       "185        1\n",
       "Name: age, dtype: int64"
      ]
     },
     "execution_count": 20,
     "metadata": {},
     "output_type": "execute_result"
    }
   ],
   "source": [
    "df_train_test['age'].value_counts()"
   ]
  },
  {
   "cell_type": "code",
   "execution_count": 21,
   "id": "1386c7f2-a3f1-4de2-bde3-135024c240db",
   "metadata": {},
   "outputs": [
    {
     "data": {
      "text/plain": [
       "count             347,469.00\n",
       "mean                   26.54\n",
       "std                    73.53\n",
       "min                     0.00\n",
       "25%                    10.00\n",
       "50%                    15.00\n",
       "75%                    30.00\n",
       "max                   995.00\n",
       "Name: age, dtype: float64"
      ]
     },
     "execution_count": 21,
     "metadata": {},
     "output_type": "execute_result"
    }
   ],
   "source": [
    "df_train_test['age'].describe()"
   ]
  },
  {
   "cell_type": "code",
   "execution_count": 22,
   "id": "0760bef6-1120-4f7b-9487-3a3303a5e35e",
   "metadata": {},
   "outputs": [
    {
     "data": {
      "image/png": "[encoded data removed]",
      "text/plain": [
       "<Figure size 960x720 with 1 Axes>"
      ]
     },
     "metadata": {},
     "output_type": "display_data"
    }
   ],
   "source": [
    "data = df_train_test['age']\n",
    "plt.figure(dpi=150)\n",
    "plt.title(\"Distribución de age - Antes\", weight='bold')\n",
    "sns.boxplot(data)\n",
    "plt.xlabel('Age', weight='bold')\n",
    "plt.show()"
   ]
  },
  {
   "cell_type": "code",
   "execution_count": 23,
   "id": "dc8cda9a-b462-4f3c-bf4c-0a48fd0f2270",
   "metadata": {},
   "outputs": [],
   "source": [
    "eliminar_outliers_segun_iqr(df_train_test, 'age')"
   ]
  },
  {
   "cell_type": "code",
   "execution_count": 24,
   "id": "2bf7eebf-d959-4d74-ac2d-24bd76445387",
   "metadata": {},
   "outputs": [
    {
     "data": {
      "text/plain": [
       "10    51680\n",
       "15    48074\n",
       "5     45045\n",
       "20    42792\n",
       "0     34725\n",
       "25    32586\n",
       "30    23977\n",
       "35    14420\n",
       "40    14050\n",
       "50     9619\n",
       "90     6689\n",
       "45     6255\n",
       "60     4773\n",
       "80     4087\n",
       "55     2695\n",
       "70     2679\n",
       "65     1497\n",
       "85     1133\n",
       "75      693\n",
       "Name: age, dtype: int64"
      ]
     },
     "execution_count": 24,
     "metadata": {},
     "output_type": "execute_result"
    }
   ],
   "source": [
    "df_train_test['age'].value_counts()"
   ]
  },
  {
   "cell_type": "code",
   "execution_count": 25,
   "id": "88d1bbfd-f457-4075-9ed8-d30400e2302e",
   "metadata": {},
   "outputs": [
    {
     "data": {
      "text/plain": [
       "count             347,469.00\n",
       "mean                   21.52\n",
       "std                    19.29\n",
       "min                     0.00\n",
       "25%                    10.00\n",
       "50%                    15.00\n",
       "75%                    30.00\n",
       "max                    90.00\n",
       "Name: age, dtype: float64"
      ]
     },
     "execution_count": 25,
     "metadata": {},
     "output_type": "execute_result"
    }
   ],
   "source": [
    "df_train_test['age'].describe()"
   ]
  },
  {
   "cell_type": "code",
   "execution_count": 26,
   "id": "00d04c91-565c-4435-bc7e-532afa308248",
   "metadata": {},
   "outputs": [
    {
     "data": {
      "image/png": "[encoded data removed]",
      "text/plain": [
       "<Figure size 960x720 with 1 Axes>"
      ]
     },
     "metadata": {},
     "output_type": "display_data"
    }
   ],
   "source": [
    "data = df_train_test['age']\n",
    "plt.figure(dpi=150)\n",
    "plt.title(\"Distribución de age - Despues\", weight='bold')\n",
    "sns.boxplot(data)\n",
    "plt.xlabel('Age', weight='bold')\n",
    "plt.show()"
   ]
  },
  {
   "cell_type": "code",
   "execution_count": 27,
   "id": "74e56e85-a67d-41a6-86c2-8605f0ed3d68",
   "metadata": {},
   "outputs": [
    {
     "data": {
      "image/png": "[encoded data removed]",
      "text/plain": [
       "<Figure size 640x480 with 1 Axes>"
      ]
     },
     "metadata": {},
     "output_type": "display_data"
    }
   ],
   "source": [
    "df_train_test['age'].plot(kind = 'hist', title='Distribucion de age - Despues')\n",
    "plt.show()"
   ]
  },
  {
   "cell_type": "markdown",
   "id": "67693b37-a8b4-4938-b5c6-7ee95b8ce4c2",
   "metadata": {},
   "source": [
    "### Area percentage"
   ]
  },
  {
   "cell_type": "code",
   "execution_count": 28,
   "id": "05421637-6ddc-444b-aa3d-966a913b7235",
   "metadata": {},
   "outputs": [
    {
     "data": {
      "text/plain": [
       "6      55959\n",
       "7      49140\n",
       "5      43556\n",
       "8      37988\n",
       "9      29572\n",
       "       ...  \n",
       "75         1\n",
       "90         1\n",
       "82         1\n",
       "100        1\n",
       "81         1\n",
       "Name: area_percentage, Length: 86, dtype: int64"
      ]
     },
     "execution_count": 28,
     "metadata": {},
     "output_type": "execute_result"
    }
   ],
   "source": [
    "df_train_test['area_percentage'].value_counts()"
   ]
  },
  {
   "cell_type": "code",
   "execution_count": 29,
   "id": "144e151c-f7f7-4bde-b01d-efdeb821f3d2",
   "metadata": {},
   "outputs": [
    {
     "data": {
      "text/plain": [
       "count             347,469.00\n",
       "mean                    8.02\n",
       "std                     4.39\n",
       "min                     1.00\n",
       "25%                     5.00\n",
       "50%                     7.00\n",
       "75%                     9.00\n",
       "max                   100.00\n",
       "Name: area_percentage, dtype: float64"
      ]
     },
     "execution_count": 29,
     "metadata": {},
     "output_type": "execute_result"
    }
   ],
   "source": [
    "df_train_test['area_percentage'].describe()"
   ]
  },
  {
   "cell_type": "code",
   "execution_count": 30,
   "id": "a7565c83-a081-4b82-8ff8-009877fe651f",
   "metadata": {},
   "outputs": [
    {
     "data": {
      "image/png": "[encoded data removed]",
      "text/plain": [
       "<Figure size 800x600 with 1 Axes>"
      ]
     },
     "metadata": {},
     "output_type": "display_data"
    }
   ],
   "source": [
    "plt.figure(dpi=125)\n",
    "sns.distplot(df_train_test['area_percentage'])\n",
    "plt.title(\"Distribución de area percentage - antes\", weight='bold')\n",
    "plt.show()"
   ]
  },
  {
   "cell_type": "code",
   "execution_count": 31,
   "id": "85df579a-959a-4fbd-9ddb-58410f7c9cdd",
   "metadata": {},
   "outputs": [
    {
     "data": {
      "text/plain": [
       "count             347,469.00\n",
       "mean                    7.90\n",
       "std                     3.73\n",
       "min                     1.00\n",
       "25%                     5.00\n",
       "50%                     7.00\n",
       "75%                     9.00\n",
       "max                    21.00\n",
       "Name: area_percentage, dtype: float64"
      ]
     },
     "execution_count": 31,
     "metadata": {},
     "output_type": "execute_result"
    }
   ],
   "source": [
    "eliminar_outliers_segun_iqr(df_train_test, 'area_percentage')\n",
    "df_train_test['area_percentage'].describe()"
   ]
  },
  {
   "cell_type": "code",
   "execution_count": 32,
   "id": "b0a3496e-591d-467f-b7c5-d51e20672d3e",
   "metadata": {},
   "outputs": [
    {
     "data": {
      "text/plain": [
       "6     55959\n",
       "7     49140\n",
       "5     43556\n",
       "8     37988\n",
       "9     29572\n",
       "4     25675\n",
       "10    21030\n",
       "11    18390\n",
       "3     15687\n",
       "12    10148\n",
       "13     7725\n",
       "21     6030\n",
       "14     5532\n",
       "15     4668\n",
       "2      4275\n",
       "16     3465\n",
       "17     3237\n",
       "19     2118\n",
       "18     1738\n",
       "20     1411\n",
       "1       125\n",
       "Name: area_percentage, dtype: int64"
      ]
     },
     "execution_count": 32,
     "metadata": {},
     "output_type": "execute_result"
    }
   ],
   "source": [
    "df_train_test['area_percentage'].value_counts()"
   ]
  },
  {
   "cell_type": "code",
   "execution_count": 33,
   "id": "b0e7dbda-48a5-4e47-b3de-1e1c31aeb251",
   "metadata": {},
   "outputs": [
    {
     "data": {
      "image/png": "[encoded data removed]",
      "text/plain": [
       "<Figure size 800x600 with 1 Axes>"
      ]
     },
     "metadata": {},
     "output_type": "display_data"
    }
   ],
   "source": [
    "plt.figure(dpi=125)\n",
    "sns.distplot(df_train_test['area_percentage'])\n",
    "plt.title(\"Distribución de area percentage - despues\", weight='bold')\n",
    "plt.show()"
   ]
  },
  {
   "cell_type": "markdown",
   "id": "9302272d-2442-4d4a-ab61-d50f1849cb99",
   "metadata": {},
   "source": [
    "### Height percentage"
   ]
  },
  {
   "cell_type": "code",
   "execution_count": 34,
   "id": "79037240-fd84-4498-9d2d-c2c4d029804f",
   "metadata": {},
   "outputs": [
    {
     "data": {
      "text/plain": [
       "5     104869\n",
       "6      61837\n",
       "4      50427\n",
       "7      47360\n",
       "3      34535\n",
       "8      18460\n",
       "2      12348\n",
       "9       7146\n",
       "10      5934\n",
       "12      1246\n",
       "11      1242\n",
       "13      1036\n",
       "15       399\n",
       "16       246\n",
       "18        95\n",
       "32        90\n",
       "14        85\n",
       "20        41\n",
       "21        21\n",
       "23        12\n",
       "17        11\n",
       "19         8\n",
       "24         6\n",
       "25         4\n",
       "26         3\n",
       "22         3\n",
       "28         2\n",
       "31         2\n",
       "29         1\n",
       "Name: height_percentage, dtype: int64"
      ]
     },
     "execution_count": 34,
     "metadata": {},
     "output_type": "execute_result"
    }
   ],
   "source": [
    "df_train_test['height_percentage'].value_counts()"
   ]
  },
  {
   "cell_type": "code",
   "execution_count": 35,
   "id": "ed94bb47-f018-40dc-bde2-10c06e87323a",
   "metadata": {},
   "outputs": [
    {
     "data": {
      "text/plain": [
       "count             347,469.00\n",
       "mean                    5.43\n",
       "std                     1.92\n",
       "min                     2.00\n",
       "25%                     4.00\n",
       "50%                     5.00\n",
       "75%                     6.00\n",
       "max                    32.00\n",
       "Name: height_percentage, dtype: float64"
      ]
     },
     "execution_count": 35,
     "metadata": {},
     "output_type": "execute_result"
    }
   ],
   "source": [
    "df_train_test['height_percentage'].describe()"
   ]
  },
  {
   "cell_type": "code",
   "execution_count": 36,
   "id": "267b1383-3d96-4c58-8de3-5a806eb8b0c0",
   "metadata": {},
   "outputs": [
    {
     "data": {
      "image/png": "[encoded data removed]",
      "text/plain": [
       "<Figure size 800x600 with 1 Axes>"
      ]
     },
     "metadata": {},
     "output_type": "display_data"
    }
   ],
   "source": [
    "plt.figure(dpi=125)\n",
    "sns.distplot(df_train_test['height_percentage'])\n",
    "plt.title(\"Distribución de height percentage - antes\", weight='bold')\n",
    "plt.show()"
   ]
  },
  {
   "cell_type": "code",
   "execution_count": 37,
   "id": "96727396-cf11-4be6-8cfc-49b53132704b",
   "metadata": {},
   "outputs": [
    {
     "data": {
      "text/plain": [
       "count             347,469.00\n",
       "mean                    5.42\n",
       "std                     1.80\n",
       "min                     2.00\n",
       "25%                     4.00\n",
       "50%                     5.00\n",
       "75%                     6.00\n",
       "max                    12.00\n",
       "Name: height_percentage, dtype: float64"
      ]
     },
     "execution_count": 37,
     "metadata": {},
     "output_type": "execute_result"
    }
   ],
   "source": [
    "eliminar_outliers_segun_iqr(df_train_test, 'height_percentage')\n",
    "df_train_test['height_percentage'].describe()"
   ]
  },
  {
   "cell_type": "code",
   "execution_count": 38,
   "id": "6f7e61d2-82ea-4cb1-afb7-82350b05878d",
   "metadata": {},
   "outputs": [
    {
     "data": {
      "text/plain": [
       "5     104869\n",
       "6      61837\n",
       "4      50427\n",
       "7      47360\n",
       "3      34535\n",
       "8      18460\n",
       "2      12348\n",
       "9       7146\n",
       "10      5934\n",
       "12      3311\n",
       "11      1242\n",
       "Name: height_percentage, dtype: int64"
      ]
     },
     "execution_count": 38,
     "metadata": {},
     "output_type": "execute_result"
    }
   ],
   "source": [
    "df_train_test['height_percentage'].value_counts()"
   ]
  },
  {
   "cell_type": "markdown",
   "id": "485dd772-4386-40f6-81f9-f731fed75d73",
   "metadata": {},
   "source": [
    "### Count families"
   ]
  },
  {
   "cell_type": "code",
   "execution_count": 39,
   "id": "c9b50f0b-f50a-4771-8bf8-b5caf4b68320",
   "metadata": {},
   "outputs": [
    {
     "data": {
      "text/plain": [
       "1    301377\n",
       "0     27937\n",
       "2     15010\n",
       "3      2415\n",
       "4       547\n",
       "5       135\n",
       "6        33\n",
       "7         8\n",
       "9         4\n",
       "8         3\n",
       "Name: count_families, dtype: int64"
      ]
     },
     "execution_count": 39,
     "metadata": {},
     "output_type": "execute_result"
    }
   ],
   "source": [
    "df_train_test['count_families'].value_counts()"
   ]
  },
  {
   "cell_type": "code",
   "execution_count": 40,
   "id": "16b80e35-7b94-4897-8430-e50ddce2291b",
   "metadata": {},
   "outputs": [
    {
     "data": {
      "text/plain": [
       "count             347,469.00\n",
       "mean                    0.98\n",
       "std                     0.42\n",
       "min                     0.00\n",
       "25%                     1.00\n",
       "50%                     1.00\n",
       "75%                     1.00\n",
       "max                     9.00\n",
       "Name: count_families, dtype: float64"
      ]
     },
     "execution_count": 40,
     "metadata": {},
     "output_type": "execute_result"
    }
   ],
   "source": [
    "df_train_test['count_families'].describe()"
   ]
  },
  {
   "cell_type": "code",
   "execution_count": 41,
   "id": "7dcddc38-3e6e-4168-ba62-b1ffc01edf0d",
   "metadata": {},
   "outputs": [
    {
     "data": {
      "image/png": "[encoded data removed]",
      "text/plain": [
       "<Figure size 960x720 with 1 Axes>"
      ]
     },
     "metadata": {},
     "output_type": "display_data"
    }
   ],
   "source": [
    "plt.figure(dpi=150)\n",
    "sns.countplot(df_train_test['count_families'])\n",
    "plt.title(\"Cantidad de familias - antes\", weight='bold')\n",
    "plt.show()"
   ]
  },
  {
   "cell_type": "code",
   "execution_count": 42,
   "id": "61d50636-0413-45a2-8efe-7b8de5773216",
   "metadata": {},
   "outputs": [
    {
     "data": {
      "text/plain": [
       "1    301377\n",
       "0     27937\n",
       "2     15010\n",
       "3      3145\n",
       "Name: count_families, dtype: int64"
      ]
     },
     "execution_count": 42,
     "metadata": {},
     "output_type": "execute_result"
    }
   ],
   "source": [
    "df_train_test.loc[(df_train_test['count_families'] > 3), 'count_families'] = 3\n",
    "df_train_test['count_families'].value_counts()"
   ]
  },
  {
   "cell_type": "markdown",
   "id": "77adb846-f09a-430b-b9d4-b7ac02b45db9",
   "metadata": {},
   "source": [
    "## Variables categoricas"
   ]
  },
  {
   "cell_type": "markdown",
   "id": "624b135a-db80-450a-97c5-ac055f853815",
   "metadata": {},
   "source": [
    "En cuanto a las variables categoricas no vamos a hacer una limpieza de outliers. Debido a la cantidad de tipos de cada categoria o a la cantidad de registros de la misma, vamos a pasar la decision del tipo de encoding de acuerdo al modelo a utilizar. Por otro lado, no sabemos si para todos los modelos todas estas features son necesarias independientemente del tipo de encoding que se elija."
   ]
  },
  {
   "cell_type": "markdown",
   "id": "812e8b0d-d256-4fba-b17f-5867dc468e3d",
   "metadata": {},
   "source": [
    "### Plan configuration"
   ]
  },
  {
   "cell_type": "code",
   "execution_count": 7,
   "id": "05a13ce1-5e03-4bb7-8d96-f4286a162477",
   "metadata": {},
   "outputs": [
    {
     "data": {
      "text/plain": [
       "d    333327\n",
       "q      7641\n",
       "u      4909\n",
       "c       450\n",
       "s       449\n",
       "a       353\n",
       "o       195\n",
       "m        64\n",
       "n        54\n",
       "f        27\n",
       "Name: plan_configuration, dtype: int64"
      ]
     },
     "execution_count": 7,
     "metadata": {},
     "output_type": "execute_result"
    }
   ],
   "source": [
    "df_train_test['plan_configuration'].value_counts()"
   ]
  },
  {
   "cell_type": "markdown",
   "id": "026af326-d1d4-461e-bd19-203227d86ed2",
   "metadata": {},
   "source": [
    "### Land surface condition"
   ]
  },
  {
   "cell_type": "code",
   "execution_count": 8,
   "id": "8fdd53e5-9d7f-4bd7-ac2a-2e19d09d9442",
   "metadata": {},
   "outputs": [
    {
     "data": {
      "text/plain": [
       "t    288937\n",
       "n     47413\n",
       "o     11119\n",
       "Name: land_surface_condition, dtype: int64"
      ]
     },
     "execution_count": 8,
     "metadata": {},
     "output_type": "execute_result"
    }
   ],
   "source": [
    "df_train_test['land_surface_condition'].value_counts()"
   ]
  },
  {
   "cell_type": "markdown",
   "id": "60e3b357-2b8e-4d0e-b225-a3d686fb375c",
   "metadata": {},
   "source": [
    "### Foundation type"
   ]
  },
  {
   "cell_type": "code",
   "execution_count": 9,
   "id": "7cc04ac7-9019-4372-b99a-685a91f96bd7",
   "metadata": {},
   "outputs": [
    {
     "data": {
      "text/plain": [
       "r    292374\n",
       "w     20048\n",
       "u     18908\n",
       "i     14182\n",
       "h      1957\n",
       "Name: foundation_type, dtype: int64"
      ]
     },
     "execution_count": 9,
     "metadata": {},
     "output_type": "execute_result"
    }
   ],
   "source": [
    "df_train_test['foundation_type'].value_counts()"
   ]
  },
  {
   "cell_type": "markdown",
   "id": "f81377dd-5762-41b8-bba6-ed1e3c8e9a3d",
   "metadata": {},
   "source": [
    "### Roof type"
   ]
  },
  {
   "cell_type": "code",
   "execution_count": 10,
   "id": "23f8109b-c87f-4c60-a81f-232befebb05a",
   "metadata": {},
   "outputs": [
    {
     "data": {
      "text/plain": [
       "n    243975\n",
       "q     81905\n",
       "x     21589\n",
       "Name: roof_type, dtype: int64"
      ]
     },
     "execution_count": 10,
     "metadata": {},
     "output_type": "execute_result"
    }
   ],
   "source": [
    "df_train_test['roof_type'].value_counts()"
   ]
  },
  {
   "cell_type": "markdown",
   "id": "6bdc127c-c0c1-403c-9248-2c741accce1a",
   "metadata": {},
   "source": [
    "### Ground floor type"
   ]
  },
  {
   "cell_type": "code",
   "execution_count": 11,
   "id": "063eecbd-cde4-47d9-b28e-f993093a23c5",
   "metadata": {},
   "outputs": [
    {
     "data": {
      "text/plain": [
       "f    279591\n",
       "x     33109\n",
       "v     32731\n",
       "z      1334\n",
       "m       704\n",
       "Name: ground_floor_type, dtype: int64"
      ]
     },
     "execution_count": 11,
     "metadata": {},
     "output_type": "execute_result"
    }
   ],
   "source": [
    "df_train_test['ground_floor_type'].value_counts()"
   ]
  },
  {
   "cell_type": "markdown",
   "id": "5a9bebde-1045-4843-9c9c-1827067056ad",
   "metadata": {},
   "source": [
    "### Other floor type"
   ]
  },
  {
   "cell_type": "code",
   "execution_count": 12,
   "id": "09368a29-88c4-4bd1-acb9-7f396264012e",
   "metadata": {},
   "outputs": [
    {
     "data": {
      "text/plain": [
       "q    220286\n",
       "x     58139\n",
       "j     52912\n",
       "s     16132\n",
       "Name: other_floor_type, dtype: int64"
      ]
     },
     "execution_count": 12,
     "metadata": {},
     "output_type": "execute_result"
    }
   ],
   "source": [
    "df_train_test['other_floor_type'].value_counts()"
   ]
  },
  {
   "cell_type": "markdown",
   "id": "b77b6345-136c-47e7-93ad-30ca0ca61f2e",
   "metadata": {},
   "source": [
    "### Position"
   ]
  },
  {
   "cell_type": "code",
   "execution_count": 15,
   "id": "c0f666d5-e1c0-460c-bf8e-f3d0e33d976d",
   "metadata": {},
   "outputs": [
    {
     "data": {
      "text/plain": [
       "s    269463\n",
       "t     57258\n",
       "j     17647\n",
       "o      3101\n",
       "Name: position, dtype: int64"
      ]
     },
     "execution_count": 15,
     "metadata": {},
     "output_type": "execute_result"
    }
   ],
   "source": [
    "df_train_test['position'].value_counts()"
   ]
  },
  {
   "cell_type": "markdown",
   "id": "3101e166-c67a-4b12-b685-24977e5757da",
   "metadata": {},
   "source": [
    "### Legal ownership status"
   ]
  },
  {
   "cell_type": "code",
   "execution_count": 14,
   "id": "63b2db01-8a01-4aaa-8d48-6fb126d64fed",
   "metadata": {},
   "outputs": [
    {
     "data": {
      "text/plain": [
       "v    334633\n",
       "a      7307\n",
       "w      3539\n",
       "r      1990\n",
       "Name: legal_ownership_status, dtype: int64"
      ]
     },
     "execution_count": 14,
     "metadata": {},
     "output_type": "execute_result"
    }
   ],
   "source": [
    "df_train_test['legal_ownership_status'].value_counts()"
   ]
  },
  {
   "cell_type": "markdown",
   "id": "dd3d557a-9f7f-45bc-812d-84ea003585e1",
   "metadata": {},
   "source": [
    "## Guardando para posterior feature engineering"
   ]
  },
  {
   "cell_type": "code",
   "execution_count": 192,
   "id": "60438c3b-541e-4af7-9cf8-da430ffcf5f6",
   "metadata": {},
   "outputs": [],
   "source": [
    "train = df_train_test[(df_train_test['damage_grade'] != -1)]\n",
    "train.reset_index(inplace=True)\n",
    "test = df_train_test[(df_train_test['damage_grade'] == -1)]\n",
    "test.reset_index(inplace=True)"
   ]
  },
  {
   "cell_type": "code",
   "execution_count": 193,
   "id": "a2c5590b-0b9f-4af2-aa81-31e88b71a0ec",
   "metadata": {},
   "outputs": [
    {
     "data": {
      "text/html": [
       "<div>\n",
       "<style scoped>\n",
       "    .dataframe tbody tr th:only-of-type {\n",
       "        vertical-align: middle;\n",
       "    }\n",
       "\n",
       "    .dataframe tbody tr th {\n",
       "        vertical-align: top;\n",
       "    }\n",
       "\n",
       "    .dataframe thead th {\n",
       "        text-align: right;\n",
       "    }\n",
       "</style>\n",
       "<table border=\"1\" class=\"dataframe\">\n",
       "  <thead>\n",
       "    <tr style=\"text-align: right;\">\n",
       "      <th></th>\n",
       "      <th>building_id</th>\n",
       "      <th>damage_grade</th>\n",
       "      <th>geo_level_1_id</th>\n",
       "      <th>geo_level_2_id</th>\n",
       "      <th>geo_level_3_id</th>\n",
       "      <th>count_floors_pre_eq</th>\n",
       "      <th>age</th>\n",
       "      <th>area_percentage</th>\n",
       "      <th>height_percentage</th>\n",
       "      <th>land_surface_condition</th>\n",
       "      <th>...</th>\n",
       "      <th>has_secondary_use_agriculture</th>\n",
       "      <th>has_secondary_use_hotel</th>\n",
       "      <th>has_secondary_use_rental</th>\n",
       "      <th>has_secondary_use_institution</th>\n",
       "      <th>has_secondary_use_school</th>\n",
       "      <th>has_secondary_use_industry</th>\n",
       "      <th>has_secondary_use_health_post</th>\n",
       "      <th>has_secondary_use_gov_office</th>\n",
       "      <th>has_secondary_use_use_police</th>\n",
       "      <th>has_secondary_use_other</th>\n",
       "    </tr>\n",
       "  </thead>\n",
       "  <tbody>\n",
       "    <tr>\n",
       "      <th>0</th>\n",
       "      <td>802906</td>\n",
       "      <td>3</td>\n",
       "      <td>6</td>\n",
       "      <td>487</td>\n",
       "      <td>12198</td>\n",
       "      <td>2</td>\n",
       "      <td>30</td>\n",
       "      <td>6</td>\n",
       "      <td>5</td>\n",
       "      <td>t</td>\n",
       "      <td>...</td>\n",
       "      <td>0</td>\n",
       "      <td>0</td>\n",
       "      <td>0</td>\n",
       "      <td>0</td>\n",
       "      <td>0</td>\n",
       "      <td>0</td>\n",
       "      <td>0</td>\n",
       "      <td>0</td>\n",
       "      <td>0</td>\n",
       "      <td>0</td>\n",
       "    </tr>\n",
       "    <tr>\n",
       "      <th>1</th>\n",
       "      <td>28830</td>\n",
       "      <td>2</td>\n",
       "      <td>8</td>\n",
       "      <td>900</td>\n",
       "      <td>2812</td>\n",
       "      <td>2</td>\n",
       "      <td>10</td>\n",
       "      <td>8</td>\n",
       "      <td>7</td>\n",
       "      <td>o</td>\n",
       "      <td>...</td>\n",
       "      <td>0</td>\n",
       "      <td>0</td>\n",
       "      <td>0</td>\n",
       "      <td>0</td>\n",
       "      <td>0</td>\n",
       "      <td>0</td>\n",
       "      <td>0</td>\n",
       "      <td>0</td>\n",
       "      <td>0</td>\n",
       "      <td>0</td>\n",
       "    </tr>\n",
       "    <tr>\n",
       "      <th>2</th>\n",
       "      <td>94947</td>\n",
       "      <td>3</td>\n",
       "      <td>21</td>\n",
       "      <td>363</td>\n",
       "      <td>8973</td>\n",
       "      <td>2</td>\n",
       "      <td>10</td>\n",
       "      <td>5</td>\n",
       "      <td>5</td>\n",
       "      <td>t</td>\n",
       "      <td>...</td>\n",
       "      <td>0</td>\n",
       "      <td>0</td>\n",
       "      <td>0</td>\n",
       "      <td>0</td>\n",
       "      <td>0</td>\n",
       "      <td>0</td>\n",
       "      <td>0</td>\n",
       "      <td>0</td>\n",
       "      <td>0</td>\n",
       "      <td>0</td>\n",
       "    </tr>\n",
       "    <tr>\n",
       "      <th>3</th>\n",
       "      <td>590882</td>\n",
       "      <td>2</td>\n",
       "      <td>22</td>\n",
       "      <td>418</td>\n",
       "      <td>10694</td>\n",
       "      <td>2</td>\n",
       "      <td>10</td>\n",
       "      <td>6</td>\n",
       "      <td>5</td>\n",
       "      <td>t</td>\n",
       "      <td>...</td>\n",
       "      <td>0</td>\n",
       "      <td>0</td>\n",
       "      <td>0</td>\n",
       "      <td>0</td>\n",
       "      <td>0</td>\n",
       "      <td>0</td>\n",
       "      <td>0</td>\n",
       "      <td>0</td>\n",
       "      <td>0</td>\n",
       "      <td>0</td>\n",
       "    </tr>\n",
       "    <tr>\n",
       "      <th>4</th>\n",
       "      <td>201944</td>\n",
       "      <td>3</td>\n",
       "      <td>11</td>\n",
       "      <td>131</td>\n",
       "      <td>1488</td>\n",
       "      <td>3</td>\n",
       "      <td>30</td>\n",
       "      <td>8</td>\n",
       "      <td>9</td>\n",
       "      <td>t</td>\n",
       "      <td>...</td>\n",
       "      <td>0</td>\n",
       "      <td>0</td>\n",
       "      <td>0</td>\n",
       "      <td>0</td>\n",
       "      <td>0</td>\n",
       "      <td>0</td>\n",
       "      <td>0</td>\n",
       "      <td>0</td>\n",
       "      <td>0</td>\n",
       "      <td>0</td>\n",
       "    </tr>\n",
       "  </tbody>\n",
       "</table>\n",
       "<p>5 rows × 40 columns</p>\n",
       "</div>"
      ],
      "text/plain": [
       "   building_id  damage_grade  geo_level_1_id  geo_level_2_id  geo_level_3_id  \\\n",
       "0       802906             3               6             487           12198   \n",
       "1        28830             2               8             900            2812   \n",
       "2        94947             3              21             363            8973   \n",
       "3       590882             2              22             418           10694   \n",
       "4       201944             3              11             131            1488   \n",
       "\n",
       "   count_floors_pre_eq  age  area_percentage  height_percentage  \\\n",
       "0                    2   30                6                  5   \n",
       "1                    2   10                8                  7   \n",
       "2                    2   10                5                  5   \n",
       "3                    2   10                6                  5   \n",
       "4                    3   30                8                  9   \n",
       "\n",
       "  land_surface_condition  ... has_secondary_use_agriculture  \\\n",
       "0                      t  ...                             0   \n",
       "1                      o  ...                             0   \n",
       "2                      t  ...                             0   \n",
       "3                      t  ...                             0   \n",
       "4                      t  ...                             0   \n",
       "\n",
       "  has_secondary_use_hotel has_secondary_use_rental  \\\n",
       "0                       0                        0   \n",
       "1                       0                        0   \n",
       "2                       0                        0   \n",
       "3                       0                        0   \n",
       "4                       0                        0   \n",
       "\n",
       "  has_secondary_use_institution has_secondary_use_school  \\\n",
       "0                             0                        0   \n",
       "1                             0                        0   \n",
       "2                             0                        0   \n",
       "3                             0                        0   \n",
       "4                             0                        0   \n",
       "\n",
       "  has_secondary_use_industry  has_secondary_use_health_post  \\\n",
       "0                          0                              0   \n",
       "1                          0                              0   \n",
       "2                          0                              0   \n",
       "3                          0                              0   \n",
       "4                          0                              0   \n",
       "\n",
       "   has_secondary_use_gov_office  has_secondary_use_use_police  \\\n",
       "0                             0                             0   \n",
       "1                             0                             0   \n",
       "2                             0                             0   \n",
       "3                             0                             0   \n",
       "4                             0                             0   \n",
       "\n",
       "   has_secondary_use_other  \n",
       "0                        0  \n",
       "1                        0  \n",
       "2                        0  \n",
       "3                        0  \n",
       "4                        0  \n",
       "\n",
       "[5 rows x 40 columns]"
      ]
     },
     "execution_count": 193,
     "metadata": {},
     "output_type": "execute_result"
    }
   ],
   "source": [
    "train.head()"
   ]
  },
  {
   "cell_type": "code",
   "execution_count": 194,
   "id": "b66fc189-ae80-4b14-bf67-db3a51f050f4",
   "metadata": {},
   "outputs": [
    {
     "data": {
      "text/plain": [
       "(260601, 40)"
      ]
     },
     "execution_count": 194,
     "metadata": {},
     "output_type": "execute_result"
    }
   ],
   "source": [
    "train.shape"
   ]
  },
  {
   "cell_type": "code",
   "execution_count": 195,
   "id": "32acf015-0a28-485e-aad6-25e100ec4126",
   "metadata": {},
   "outputs": [
    {
     "data": {
      "text/html": [
       "<div>\n",
       "<style scoped>\n",
       "    .dataframe tbody tr th:only-of-type {\n",
       "        vertical-align: middle;\n",
       "    }\n",
       "\n",
       "    .dataframe tbody tr th {\n",
       "        vertical-align: top;\n",
       "    }\n",
       "\n",
       "    .dataframe thead th {\n",
       "        text-align: right;\n",
       "    }\n",
       "</style>\n",
       "<table border=\"1\" class=\"dataframe\">\n",
       "  <thead>\n",
       "    <tr style=\"text-align: right;\">\n",
       "      <th></th>\n",
       "      <th>building_id</th>\n",
       "      <th>damage_grade</th>\n",
       "      <th>geo_level_1_id</th>\n",
       "      <th>geo_level_2_id</th>\n",
       "      <th>geo_level_3_id</th>\n",
       "      <th>count_floors_pre_eq</th>\n",
       "      <th>age</th>\n",
       "      <th>area_percentage</th>\n",
       "      <th>height_percentage</th>\n",
       "      <th>land_surface_condition</th>\n",
       "      <th>...</th>\n",
       "      <th>has_secondary_use_agriculture</th>\n",
       "      <th>has_secondary_use_hotel</th>\n",
       "      <th>has_secondary_use_rental</th>\n",
       "      <th>has_secondary_use_institution</th>\n",
       "      <th>has_secondary_use_school</th>\n",
       "      <th>has_secondary_use_industry</th>\n",
       "      <th>has_secondary_use_health_post</th>\n",
       "      <th>has_secondary_use_gov_office</th>\n",
       "      <th>has_secondary_use_use_police</th>\n",
       "      <th>has_secondary_use_other</th>\n",
       "    </tr>\n",
       "  </thead>\n",
       "  <tbody>\n",
       "    <tr>\n",
       "      <th>0</th>\n",
       "      <td>300051</td>\n",
       "      <td>-1</td>\n",
       "      <td>17</td>\n",
       "      <td>596</td>\n",
       "      <td>11307</td>\n",
       "      <td>3</td>\n",
       "      <td>20</td>\n",
       "      <td>7</td>\n",
       "      <td>6</td>\n",
       "      <td>t</td>\n",
       "      <td>...</td>\n",
       "      <td>0</td>\n",
       "      <td>0</td>\n",
       "      <td>0</td>\n",
       "      <td>0</td>\n",
       "      <td>0</td>\n",
       "      <td>0</td>\n",
       "      <td>0</td>\n",
       "      <td>0</td>\n",
       "      <td>0</td>\n",
       "      <td>0</td>\n",
       "    </tr>\n",
       "    <tr>\n",
       "      <th>1</th>\n",
       "      <td>99355</td>\n",
       "      <td>-1</td>\n",
       "      <td>6</td>\n",
       "      <td>141</td>\n",
       "      <td>11987</td>\n",
       "      <td>2</td>\n",
       "      <td>25</td>\n",
       "      <td>13</td>\n",
       "      <td>5</td>\n",
       "      <td>t</td>\n",
       "      <td>...</td>\n",
       "      <td>1</td>\n",
       "      <td>0</td>\n",
       "      <td>0</td>\n",
       "      <td>0</td>\n",
       "      <td>0</td>\n",
       "      <td>0</td>\n",
       "      <td>0</td>\n",
       "      <td>0</td>\n",
       "      <td>0</td>\n",
       "      <td>0</td>\n",
       "    </tr>\n",
       "    <tr>\n",
       "      <th>2</th>\n",
       "      <td>890251</td>\n",
       "      <td>-1</td>\n",
       "      <td>22</td>\n",
       "      <td>19</td>\n",
       "      <td>10044</td>\n",
       "      <td>2</td>\n",
       "      <td>5</td>\n",
       "      <td>4</td>\n",
       "      <td>5</td>\n",
       "      <td>t</td>\n",
       "      <td>...</td>\n",
       "      <td>0</td>\n",
       "      <td>0</td>\n",
       "      <td>0</td>\n",
       "      <td>0</td>\n",
       "      <td>0</td>\n",
       "      <td>0</td>\n",
       "      <td>0</td>\n",
       "      <td>0</td>\n",
       "      <td>0</td>\n",
       "      <td>0</td>\n",
       "    </tr>\n",
       "    <tr>\n",
       "      <th>3</th>\n",
       "      <td>745817</td>\n",
       "      <td>-1</td>\n",
       "      <td>26</td>\n",
       "      <td>39</td>\n",
       "      <td>633</td>\n",
       "      <td>1</td>\n",
       "      <td>0</td>\n",
       "      <td>19</td>\n",
       "      <td>3</td>\n",
       "      <td>t</td>\n",
       "      <td>...</td>\n",
       "      <td>0</td>\n",
       "      <td>0</td>\n",
       "      <td>1</td>\n",
       "      <td>0</td>\n",
       "      <td>0</td>\n",
       "      <td>0</td>\n",
       "      <td>0</td>\n",
       "      <td>0</td>\n",
       "      <td>0</td>\n",
       "      <td>0</td>\n",
       "    </tr>\n",
       "    <tr>\n",
       "      <th>4</th>\n",
       "      <td>421793</td>\n",
       "      <td>-1</td>\n",
       "      <td>17</td>\n",
       "      <td>289</td>\n",
       "      <td>7970</td>\n",
       "      <td>3</td>\n",
       "      <td>15</td>\n",
       "      <td>8</td>\n",
       "      <td>7</td>\n",
       "      <td>t</td>\n",
       "      <td>...</td>\n",
       "      <td>0</td>\n",
       "      <td>0</td>\n",
       "      <td>0</td>\n",
       "      <td>0</td>\n",
       "      <td>0</td>\n",
       "      <td>0</td>\n",
       "      <td>0</td>\n",
       "      <td>0</td>\n",
       "      <td>0</td>\n",
       "      <td>0</td>\n",
       "    </tr>\n",
       "  </tbody>\n",
       "</table>\n",
       "<p>5 rows × 40 columns</p>\n",
       "</div>"
      ],
      "text/plain": [
       "   building_id  damage_grade  geo_level_1_id  geo_level_2_id  geo_level_3_id  \\\n",
       "0       300051            -1              17             596           11307   \n",
       "1        99355            -1               6             141           11987   \n",
       "2       890251            -1              22              19           10044   \n",
       "3       745817            -1              26              39             633   \n",
       "4       421793            -1              17             289            7970   \n",
       "\n",
       "   count_floors_pre_eq  age  area_percentage  height_percentage  \\\n",
       "0                    3   20                7                  6   \n",
       "1                    2   25               13                  5   \n",
       "2                    2    5                4                  5   \n",
       "3                    1    0               19                  3   \n",
       "4                    3   15                8                  7   \n",
       "\n",
       "  land_surface_condition  ... has_secondary_use_agriculture  \\\n",
       "0                      t  ...                             0   \n",
       "1                      t  ...                             1   \n",
       "2                      t  ...                             0   \n",
       "3                      t  ...                             0   \n",
       "4                      t  ...                             0   \n",
       "\n",
       "  has_secondary_use_hotel has_secondary_use_rental  \\\n",
       "0                       0                        0   \n",
       "1                       0                        0   \n",
       "2                       0                        0   \n",
       "3                       0                        1   \n",
       "4                       0                        0   \n",
       "\n",
       "  has_secondary_use_institution has_secondary_use_school  \\\n",
       "0                             0                        0   \n",
       "1                             0                        0   \n",
       "2                             0                        0   \n",
       "3                             0                        0   \n",
       "4                             0                        0   \n",
       "\n",
       "  has_secondary_use_industry  has_secondary_use_health_post  \\\n",
       "0                          0                              0   \n",
       "1                          0                              0   \n",
       "2                          0                              0   \n",
       "3                          0                              0   \n",
       "4                          0                              0   \n",
       "\n",
       "   has_secondary_use_gov_office  has_secondary_use_use_police  \\\n",
       "0                             0                             0   \n",
       "1                             0                             0   \n",
       "2                             0                             0   \n",
       "3                             0                             0   \n",
       "4                             0                             0   \n",
       "\n",
       "   has_secondary_use_other  \n",
       "0                        0  \n",
       "1                        0  \n",
       "2                        0  \n",
       "3                        0  \n",
       "4                        0  \n",
       "\n",
       "[5 rows x 40 columns]"
      ]
     },
     "execution_count": 195,
     "metadata": {},
     "output_type": "execute_result"
    }
   ],
   "source": [
    "test.head()"
   ]
  },
  {
   "cell_type": "code",
   "execution_count": 196,
   "id": "d6f867f8-a4c6-4438-a50f-ae9e4cb75b92",
   "metadata": {},
   "outputs": [],
   "source": [
    "del test['damage_grade']"
   ]
  },
  {
   "cell_type": "code",
   "execution_count": 197,
   "id": "15c5d316-9a0a-4b5b-b20b-5fc8bea55843",
   "metadata": {},
   "outputs": [
    {
     "data": {
      "text/plain": [
       "(86868, 39)"
      ]
     },
     "execution_count": 197,
     "metadata": {},
     "output_type": "execute_result"
    }
   ],
   "source": [
    "test.shape"
   ]
  },
  {
   "cell_type": "code",
   "execution_count": 198,
   "id": "8828cf58-91d3-4467-83c8-93bf93492689",
   "metadata": {},
   "outputs": [],
   "source": [
    "# Guardamos\n",
    "train.to_csv('../data/train_cleaned.csv', index=False)\n",
    "test.to_csv('../data/test_cleaned.csv', index=False)"
   ]
  },
  {
   "cell_type": "code",
   "execution_count": null,
   "id": "87aa0150-2ce6-4292-8fcb-fb7f8ebd219f",
   "metadata": {},
   "outputs": [],
   "source": []
  }
 ],
 "metadata": {
  "kernelspec": {
   "display_name": "Python 3 (ipykernel)",
   "language": "python",
   "name": "python3"
  },
  "language_info": {
   "codemirror_mode": {
    "name": "ipython",
    "version": 3
   },
   "file_extension": ".py",
   "mimetype": "text/x-python",
   "name": "python",
   "nbconvert_exporter": "python",
   "pygments_lexer": "ipython3",
   "version": "3.9.6"
  },
  "toc-autonumbering": false
 },
 "nbformat": 4,
 "nbformat_minor": 5
}
